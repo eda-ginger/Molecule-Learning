{
 "cells": [
  {
   "cell_type": "code",
   "execution_count": 1,
   "metadata": {},
   "outputs": [],
   "source": [
    "import polars as pl\n",
    "from tqdm import tqdm\n",
    "from rdkit import Chem"
   ]
  },
  {
   "cell_type": "code",
   "execution_count": 30,
   "metadata": {},
   "outputs": [
    {
     "data": {
      "text/html": [
       "<div><style>\n",
       ".dataframe > thead > tr,\n",
       ".dataframe > tbody > tr {\n",
       "  text-align: right;\n",
       "  white-space: pre-wrap;\n",
       "}\n",
       "</style>\n",
       "<small>shape: (1_974_507, 1)</small><table border=\"1\" class=\"dataframe\"><thead><tr><th>smiles</th></tr><tr><td>str</td></tr></thead><tbody><tr><td>&quot;CCOC(=O)c1cccc(Nc2c(-c3ccc(N(C…</td></tr><tr><td>&quot;O=C(O)CCN1C(=O)C(O)=C(C(=O)c2c…</td></tr><tr><td>&quot;O=S(=O)(N[C@H]1C[C@@H]2CC[C@H]…</td></tr><tr><td>&quot;Cc1ccc(S(=O)(=O)N2C[C@H](C(=O)…</td></tr><tr><td>&quot;Cc1ccc(S(=O)(=O)CCC(=O)OCC(=O)…</td></tr><tr><td>&hellip;</td></tr><tr><td>&quot;COC(=O)c1cc(S(=O)(=O)N(C)Cc2cc…</td></tr><tr><td>&quot;O=C(/C=C/c1cc(Cl)c2c(c1)OCCO2)…</td></tr><tr><td>&quot;COc1cccc(N2C[C@H](C(=O)N3CCC[C…</td></tr><tr><td>&quot;CC1=NN(c2ccccc2)C(=O)[C@H]1/N=…</td></tr><tr><td>&quot;COc1ccccc1[C@@H]1OCC[C@H](C)O1&quot;</td></tr></tbody></table></div>"
      ],
      "text/plain": [
       "shape: (1_974_507, 1)\n",
       "┌─────────────────────────────────┐\n",
       "│ smiles                          │\n",
       "│ ---                             │\n",
       "│ str                             │\n",
       "╞═════════════════════════════════╡\n",
       "│ CCOC(=O)c1cccc(Nc2c(-c3ccc(N(C… │\n",
       "│ O=C(O)CCN1C(=O)C(O)=C(C(=O)c2c… │\n",
       "│ O=S(=O)(N[C@H]1C[C@@H]2CC[C@H]… │\n",
       "│ Cc1ccc(S(=O)(=O)N2C[C@H](C(=O)… │\n",
       "│ Cc1ccc(S(=O)(=O)CCC(=O)OCC(=O)… │\n",
       "│ …                               │\n",
       "│ COC(=O)c1cc(S(=O)(=O)N(C)Cc2cc… │\n",
       "│ O=C(/C=C/c1cc(Cl)c2c(c1)OCCO2)… │\n",
       "│ COc1cccc(N2C[C@H](C(=O)N3CCC[C… │\n",
       "│ CC1=NN(c2ccccc2)C(=O)[C@H]1/N=… │\n",
       "│ COc1ccccc1[C@@H]1OCC[C@H](C)O1  │\n",
       "└─────────────────────────────────┘"
      ]
     },
     "execution_count": 30,
     "metadata": {},
     "output_type": "execute_result"
    }
   ],
   "source": [
    "data = pl.read_csv('smiles.csv')\n",
    "data"
   ]
  },
  {
   "cell_type": "code",
   "execution_count": null,
   "metadata": {},
   "outputs": [],
   "source": []
  },
  {
   "cell_type": "code",
   "execution_count": null,
   "metadata": {},
   "outputs": [],
   "source": []
  },
  {
   "cell_type": "code",
   "execution_count": 4,
   "metadata": {},
   "outputs": [
    {
     "name": "stderr",
     "output_type": "stream",
     "text": [
      "100%|██████████| 1974507/1974507 [03:49<00:00, 8590.93it/s]"
     ]
    },
    {
     "name": "stdout",
     "output_type": "stream",
     "text": [
      "0\n"
     ]
    },
    {
     "name": "stderr",
     "output_type": "stream",
     "text": [
      "\n"
     ]
    }
   ],
   "source": [
    "count = 0\n",
    "for i in tqdm(data['smiles']):\n",
    "    mol = Chem.MolFromSmiles(i)\n",
    "    if mol is None:\n",
    "        print(i)\n",
    "        count += 1\n",
    "print(count)"
   ]
  },
  {
   "cell_type": "code",
   "execution_count": 25,
   "metadata": {},
   "outputs": [],
   "source": [
    "trn = pl.read_csv('davis/train.csv')\n",
    "val = pl.read_csv('davis/valid.csv')\n",
    "tst = pl.read_csv('davis/test.csv')\n",
    "\n",
    "# check duplicates\n",
    "trn_str = set(map(tuple, trn.select(['Drug', 'Target']).unique().rows()))\n",
    "val_str = set(map(tuple, val.select(['Drug', 'Target']).unique().rows()))\n",
    "tst_str = set(map(tuple, tst.select(['Drug', 'Target']).unique().rows()))"
   ]
  },
  {
   "cell_type": "code",
   "execution_count": 26,
   "metadata": {},
   "outputs": [
    {
     "data": {
      "text/plain": [
       "set()"
      ]
     },
     "execution_count": 26,
     "metadata": {},
     "output_type": "execute_result"
    }
   ],
   "source": [
    "trn_str & val_str"
   ]
  },
  {
   "cell_type": "code",
   "execution_count": 27,
   "metadata": {},
   "outputs": [
    {
     "data": {
      "text/plain": [
       "set()"
      ]
     },
     "execution_count": 27,
     "metadata": {},
     "output_type": "execute_result"
    }
   ],
   "source": [
    "trn_str & tst_str"
   ]
  },
  {
   "cell_type": "code",
   "execution_count": 28,
   "metadata": {},
   "outputs": [
    {
     "data": {
      "text/plain": [
       "set()"
      ]
     },
     "execution_count": 28,
     "metadata": {},
     "output_type": "execute_result"
    }
   ],
   "source": [
    "val_str & tst_str"
   ]
  },
  {
   "cell_type": "code",
   "execution_count": 29,
   "metadata": {},
   "outputs": [
    {
     "name": "stderr",
     "output_type": "stream",
     "text": [
      "100%|██████████| 25772/25772 [00:03<00:00, 7912.20it/s]"
     ]
    },
    {
     "name": "stdout",
     "output_type": "stream",
     "text": [
      "0\n"
     ]
    },
    {
     "name": "stderr",
     "output_type": "stream",
     "text": [
      "\n"
     ]
    }
   ],
   "source": [
    "count = 0\n",
    "for i in tqdm(pl.concat([trn, val, tst])['Drug']):\n",
    "    mol = Chem.MolFromSmiles(i)\n",
    "    if mol is None:\n",
    "        print(i)\n",
    "        count += 1\n",
    "print(count)"
   ]
  },
  {
   "cell_type": "code",
   "execution_count": null,
   "metadata": {},
   "outputs": [],
   "source": []
  }
 ],
 "metadata": {
  "kernelspec": {
   "display_name": "grapose",
   "language": "python",
   "name": "python3"
  },
  "language_info": {
   "codemirror_mode": {
    "name": "ipython",
    "version": 3
   },
   "file_extension": ".py",
   "mimetype": "text/x-python",
   "name": "python",
   "nbconvert_exporter": "python",
   "pygments_lexer": "ipython3",
   "version": "3.12.6"
  }
 },
 "nbformat": 4,
 "nbformat_minor": 2
}
