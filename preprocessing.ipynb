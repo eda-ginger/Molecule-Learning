{
 "cells": [
  {
   "cell_type": "code",
   "execution_count": 1,
   "metadata": {},
   "outputs": [],
   "source": [
    "import polars as pl\n",
    "from tqdm import tqdm\n",
    "from rdkit import Chem"
   ]
  },
  {
   "cell_type": "code",
   "execution_count": 2,
   "metadata": {},
   "outputs": [
    {
     "data": {
      "text/html": [
       "<div><style>\n",
       ".dataframe > thead > tr,\n",
       ".dataframe > tbody > tr {\n",
       "  text-align: right;\n",
       "  white-space: pre-wrap;\n",
       "}\n",
       "</style>\n",
       "<small>shape: (250_000, 7)</small><table border=\"1\" class=\"dataframe\"><thead><tr><th>smiles</th><th>zinc_id</th><th>mwt</th><th>logp</th><th>reactive</th><th>purchasable</th><th>tranche_name</th></tr><tr><td>str</td><td>str</td><td>f64</td><td>f64</td><td>i64</td><td>i64</td><td>str</td></tr></thead><tbody><tr><td>&quot;CCN(CCSC)C(=O)N[C@@](C)(CC)C(F…</td><td>&quot;ZINC000933510105&quot;</td><td>286.363</td><td>3.112</td><td>0</td><td>20</td><td>&quot;CGAD&quot;</td></tr><tr><td>&quot;CC1(C)CN(C(=O)Nc2cc3ccccc3nn2)…</td><td>&quot;ZINC000888615590&quot;</td><td>342.399</td><td>2.432</td><td>0</td><td>20</td><td>&quot;EEAD&quot;</td></tr><tr><td>&quot;CC[C@H](NC(C)=O)C(=O)NCC1(NC(=…</td><td>&quot;ZINC001432326999&quot;</td><td>337.38</td><td>-0.4</td><td>0</td><td>20</td><td>&quot;EBAD&quot;</td></tr><tr><td>&quot;O=C(N[C@@H]1CC[C@H](F)C1)[C@H]…</td><td>&quot;ZINC000345651486&quot;</td><td>305.349</td><td>2.568</td><td>0</td><td>20</td><td>&quot;DFAD&quot;</td></tr><tr><td>&quot;COCC(=O)N(C)CC(=O)NCC1(Nc2nccn…</td><td>&quot;ZINC001110378235&quot;</td><td>348.367</td><td>-1.315</td><td>0</td><td>20</td><td>&quot;EAAD&quot;</td></tr><tr><td>&hellip;</td><td>&hellip;</td><td>&hellip;</td><td>&hellip;</td><td>&hellip;</td><td>&hellip;</td><td>&hellip;</td></tr><tr><td>&quot;Cc1ccn(C)c1C(=O)OCCc1cn(Cc2ccc…</td><td>&quot;ZINC000835980608&quot;</td><td>324.384</td><td>2.373</td><td>0</td><td>20</td><td>&quot;DEAD&quot;</td></tr><tr><td>&quot;Nc1nc(Cl)cc2ncn(-c3cccc(C(=O)N…</td><td>&quot;ZINC001174169784&quot;</td><td>341.802</td><td>2.892</td><td>0</td><td>20</td><td>&quot;EFAD&quot;</td></tr><tr><td>&quot;Cc1c(C(=O)N[C@H](C)Cn2cccn2)cn…</td><td>&quot;ZINC000042501218&quot;</td><td>309.373</td><td>2.196</td><td>0</td><td>20</td><td>&quot;DEAD&quot;</td></tr><tr><td>&quot;C[C@@H]1CN(CCS(C)(=O)=O)C[C@H]…</td><td>&quot;ZINC001208492797&quot;</td><td>305.444</td><td>-0.581</td><td>0</td><td>20</td><td>&quot;DBAD&quot;</td></tr><tr><td>&quot;CC(F)(F)c1ccc(C(=O)N2CCOC[C@H]…</td><td>&quot;ZINC000346167252&quot;</td><td>337.366</td><td>3.009</td><td>0</td><td>20</td><td>&quot;EGAD&quot;</td></tr></tbody></table></div>"
      ],
      "text/plain": [
       "shape: (250_000, 7)\n",
       "┌────────────────────┬──────────────────┬─────────┬────────┬──────────┬─────────────┬──────────────┐\n",
       "│ smiles             ┆ zinc_id          ┆ mwt     ┆ logp   ┆ reactive ┆ purchasable ┆ tranche_name │\n",
       "│ ---                ┆ ---              ┆ ---     ┆ ---    ┆ ---      ┆ ---         ┆ ---          │\n",
       "│ str                ┆ str              ┆ f64     ┆ f64    ┆ i64      ┆ i64         ┆ str          │\n",
       "╞════════════════════╪══════════════════╪═════════╪════════╪══════════╪═════════════╪══════════════╡\n",
       "│ CCN(CCSC)C(=O)N[C@ ┆ ZINC000933510105 ┆ 286.363 ┆ 3.112  ┆ 0        ┆ 20          ┆ CGAD         │\n",
       "│ @](C)(CC)C(F…      ┆                  ┆         ┆        ┆          ┆             ┆              │\n",
       "│ CC1(C)CN(C(=O)Nc2c ┆ ZINC000888615590 ┆ 342.399 ┆ 2.432  ┆ 0        ┆ 20          ┆ EEAD         │\n",
       "│ c3ccccc3nn2)…      ┆                  ┆         ┆        ┆          ┆             ┆              │\n",
       "│ CC[C@H](NC(C)=O)C( ┆ ZINC001432326999 ┆ 337.38  ┆ -0.4   ┆ 0        ┆ 20          ┆ EBAD         │\n",
       "│ =O)NCC1(NC(=…      ┆                  ┆         ┆        ┆          ┆             ┆              │\n",
       "│ O=C(N[C@@H]1CC[C@H ┆ ZINC000345651486 ┆ 305.349 ┆ 2.568  ┆ 0        ┆ 20          ┆ DFAD         │\n",
       "│ ](F)C1)[C@H]…      ┆                  ┆         ┆        ┆          ┆             ┆              │\n",
       "│ COCC(=O)N(C)CC(=O) ┆ ZINC001110378235 ┆ 348.367 ┆ -1.315 ┆ 0        ┆ 20          ┆ EAAD         │\n",
       "│ NCC1(Nc2nccn…      ┆                  ┆         ┆        ┆          ┆             ┆              │\n",
       "│ …                  ┆ …                ┆ …       ┆ …      ┆ …        ┆ …           ┆ …            │\n",
       "│ Cc1ccn(C)c1C(=O)OC ┆ ZINC000835980608 ┆ 324.384 ┆ 2.373  ┆ 0        ┆ 20          ┆ DEAD         │\n",
       "│ Cc1cn(Cc2ccc…      ┆                  ┆         ┆        ┆          ┆             ┆              │\n",
       "│ Nc1nc(Cl)cc2ncn(-c ┆ ZINC001174169784 ┆ 341.802 ┆ 2.892  ┆ 0        ┆ 20          ┆ EFAD         │\n",
       "│ 3cccc(C(=O)N…      ┆                  ┆         ┆        ┆          ┆             ┆              │\n",
       "│ Cc1c(C(=O)N[C@H](C ┆ ZINC000042501218 ┆ 309.373 ┆ 2.196  ┆ 0        ┆ 20          ┆ DEAD         │\n",
       "│ )Cn2cccn2)cn…      ┆                  ┆         ┆        ┆          ┆             ┆              │\n",
       "│ C[C@@H]1CN(CCS(C)( ┆ ZINC001208492797 ┆ 305.444 ┆ -0.581 ┆ 0        ┆ 20          ┆ DBAD         │\n",
       "│ =O)=O)C[C@H]…      ┆                  ┆         ┆        ┆          ┆             ┆              │\n",
       "│ CC(F)(F)c1ccc(C(=O ┆ ZINC000346167252 ┆ 337.366 ┆ 3.009  ┆ 0        ┆ 20          ┆ EGAD         │\n",
       "│ )N2CCOC[C@H]…      ┆                  ┆         ┆        ┆          ┆             ┆              │\n",
       "└────────────────────┴──────────────────┴─────────┴────────┴──────────┴─────────────┴──────────────┘"
      ]
     },
     "execution_count": 2,
     "metadata": {},
     "output_type": "execute_result"
    }
   ],
   "source": [
    "data = pl.read_csv('dataset/zinc15_250k_2D.csv')\n",
    "data"
   ]
  },
  {
   "cell_type": "code",
   "execution_count": 3,
   "metadata": {},
   "outputs": [],
   "source": [
    "from rdkit.Chem.Descriptors import CalcMolDescriptors"
   ]
  },
  {
   "cell_type": "code",
   "execution_count": 4,
   "metadata": {},
   "outputs": [
    {
     "name": "stderr",
     "output_type": "stream",
     "text": [
      "100%|██████████| 250000/250000 [21:05<00:00, 197.48it/s]\n"
     ]
    }
   ],
   "source": [
    "row = []\n",
    "for i, id in tqdm(data[['smiles', 'zinc_id']].iter_rows(), total=len(data)):\n",
    "    desc = CalcMolDescriptors(Chem.MolFromSmiles(i))\n",
    "    sub = {'zinc_id': id, 'smiles': i}\n",
    "    for k, v in desc.items():\n",
    "        sub[k] = v\n",
    "    row.append(sub)\n",
    "zinc = pl.DataFrame(row)\n",
    "zinc.write_csv('data/zinc/descriptors.csv')"
   ]
  },
  {
   "cell_type": "code",
   "execution_count": 21,
   "metadata": {},
   "outputs": [
    {
     "data": {
      "text/plain": [
       "'2025.03.3'"
      ]
     },
     "execution_count": 21,
     "metadata": {},
     "output_type": "execute_result"
    }
   ],
   "source": [
    "import rdkit\n",
    "rdkit.__version__"
   ]
  },
  {
   "cell_type": "code",
   "execution_count": 20,
   "metadata": {},
   "outputs": [
    {
     "data": {
      "text/plain": [
       "217"
      ]
     },
     "execution_count": 20,
     "metadata": {},
     "output_type": "execute_result"
    }
   ],
   "source": [
    "len(CalcMolDescriptors(Chem.MolFromSmiles(i)))"
   ]
  },
  {
   "cell_type": "code",
   "execution_count": 17,
   "metadata": {},
   "outputs": [
    {
     "data": {
      "text/plain": [
       "217"
      ]
     },
     "execution_count": 17,
     "metadata": {},
     "output_type": "execute_result"
    }
   ],
   "source": [
    "len(zinc.columns[2:])"
   ]
  },
  {
   "cell_type": "code",
   "execution_count": 5,
   "metadata": {},
   "outputs": [],
   "source": [
    "import os\n",
    "import polars as pl\n",
    "import matplotlib.pyplot as plt\n",
    "import seaborn as sns\n",
    "import numpy as np\n",
    "from tqdm import tqdm\n",
    "import warnings\n",
    "warnings.filterwarnings('ignore')\n",
    "\n",
    "drop_cols = []\n",
    "continuous_cols = []\n",
    "categorical_cols = []\n",
    "binary_cols = []\n",
    "\n",
    "def is_regression_column(series: pl.Series) -> bool:\n",
    "    # 열에 소수점 이하가 있는지 판단\n",
    "    if series.dtype not in [pl.Float32, pl.Float64]:\n",
    "        return False\n",
    "    return (series - series.cast(pl.Int64)).abs().sum() > 0\n",
    "\n",
    "def plot_column_distribution(df: pl.DataFrame, save_dir: str = 'data/zinc/plots'):\n",
    "    os.makedirs(save_dir, exist_ok=True)\n",
    "    for col in tqdm(df.columns[2:]):\n",
    "        series = df[col]\n",
    "        values = series.to_numpy()\n",
    "        if df[col].n_unique() == 1:\n",
    "            drop_cols.append(col)\n",
    "            continue\n",
    "        plt.figure(figsize=(6, 4))\n",
    "        \n",
    "        tp = ''\n",
    "        \n",
    "        if is_regression_column(series):\n",
    "            sns.histplot(values, bins=30, kde=True, color=\"steelblue\")\n",
    "            plt.title(f\"[Continuous] Histogram for '{col}'\")\n",
    "            continuous_cols.append(col)\n",
    "            tp = 'Continuous'\n",
    "        else:\n",
    "            unique_values = np.unique(values)\n",
    "            if len(unique_values) == 2:\n",
    "                sns.histplot(values, bins=30, kde=False, color=\"lightcoral\")\n",
    "                plt.title(f\"[Binary/Other] Histogram for '{col}'\")\n",
    "                binary_cols.append(col)\n",
    "                tp = 'Binary'\n",
    "            else:\n",
    "                sns.countplot(x=values, palette=\"Set2\")\n",
    "                plt.title(f\"[Categorical] Countplot for '{col}'\")\n",
    "                categorical_cols.append(col)\n",
    "                tp = 'Categorical'\n",
    "\n",
    "        plt.xlabel(col)\n",
    "        plt.ylabel(\"Count\")\n",
    "        plt.tight_layout()\n",
    "\n",
    "        # 저장 경로 구성\n",
    "        filename = f\"{col.replace(' ', '_')}.png\"\n",
    "        os.makedirs(save_dir + '/' + tp + '/', exist_ok=True)\n",
    "        save_path = os.path.join(save_dir + '/' + tp + '/', filename)\n",
    "        plt.savefig(save_path)\n",
    "        plt.close()\n",
    "        \n",
    "    # columns\n",
    "    print(f'Continuous ({len(continuous_cols)}):', continuous_cols)\n",
    "    print(f'Categorical ({len(categorical_cols)}):', categorical_cols)\n",
    "    print(f'Binary ({len(binary_cols)}):', binary_cols)\n",
    "    print(f'Drop ({len(drop_cols)}):', drop_cols)\n",
    "    return continuous_cols, categorical_cols, binary_cols, drop_cols"
   ]
  },
  {
   "cell_type": "code",
   "execution_count": 6,
   "metadata": {},
   "outputs": [
    {
     "name": "stderr",
     "output_type": "stream",
     "text": [
      "100%|██████████| 217/217 [02:29<00:00,  1.45it/s]"
     ]
    },
    {
     "name": "stdout",
     "output_type": "stream",
     "text": [
      "Continuous (105): ['MaxAbsEStateIndex', 'MaxEStateIndex', 'MinAbsEStateIndex', 'MinEStateIndex', 'qed', 'SPS', 'MolWt', 'HeavyAtomMolWt', 'ExactMolWt', 'MaxPartialCharge', 'MinPartialCharge', 'MaxAbsPartialCharge', 'MinAbsPartialCharge', 'FpDensityMorgan1', 'FpDensityMorgan2', 'FpDensityMorgan3', 'BCUT2D_MWHI', 'BCUT2D_MWLOW', 'BCUT2D_CHGHI', 'BCUT2D_CHGLO', 'BCUT2D_LOGPHI', 'BCUT2D_LOGPLOW', 'BCUT2D_MRHI', 'BCUT2D_MRLOW', 'AvgIpc', 'BalabanJ', 'BertzCT', 'Chi0', 'Chi0n', 'Chi0v', 'Chi1', 'Chi1n', 'Chi1v', 'Chi2n', 'Chi2v', 'Chi3n', 'Chi3v', 'Chi4n', 'Chi4v', 'HallKierAlpha', 'Ipc', 'Kappa1', 'Kappa2', 'Kappa3', 'LabuteASA', 'PEOE_VSA1', 'PEOE_VSA10', 'PEOE_VSA11', 'PEOE_VSA12', 'PEOE_VSA13', 'PEOE_VSA14', 'PEOE_VSA2', 'PEOE_VSA3', 'PEOE_VSA4', 'PEOE_VSA5', 'PEOE_VSA6', 'PEOE_VSA7', 'PEOE_VSA8', 'PEOE_VSA9', 'SMR_VSA1', 'SMR_VSA10', 'SMR_VSA2', 'SMR_VSA3', 'SMR_VSA4', 'SMR_VSA5', 'SMR_VSA6', 'SMR_VSA7', 'SMR_VSA9', 'SlogP_VSA1', 'SlogP_VSA10', 'SlogP_VSA11', 'SlogP_VSA12', 'SlogP_VSA2', 'SlogP_VSA3', 'SlogP_VSA4', 'SlogP_VSA5', 'SlogP_VSA6', 'SlogP_VSA7', 'SlogP_VSA8', 'TPSA', 'EState_VSA1', 'EState_VSA10', 'EState_VSA11', 'EState_VSA2', 'EState_VSA3', 'EState_VSA4', 'EState_VSA5', 'EState_VSA6', 'EState_VSA7', 'EState_VSA8', 'EState_VSA9', 'VSA_EState1', 'VSA_EState10', 'VSA_EState2', 'VSA_EState3', 'VSA_EState4', 'VSA_EState5', 'VSA_EState6', 'VSA_EState7', 'VSA_EState8', 'VSA_EState9', 'FractionCSP3', 'Phi', 'MolLogP', 'MolMR']\n",
      "Categorical (94): ['NumValenceElectrons', 'HeavyAtomCount', 'NHOHCount', 'NOCount', 'NumAliphaticCarbocycles', 'NumAliphaticHeterocycles', 'NumAliphaticRings', 'NumAmideBonds', 'NumAromaticCarbocycles', 'NumAromaticHeterocycles', 'NumAromaticRings', 'NumAtomStereoCenters', 'NumBridgeheadAtoms', 'NumHAcceptors', 'NumHDonors', 'NumHeteroatoms', 'NumHeterocycles', 'NumRotatableBonds', 'NumSaturatedCarbocycles', 'NumSaturatedHeterocycles', 'NumSaturatedRings', 'NumSpiroAtoms', 'NumUnspecifiedAtomStereoCenters', 'RingCount', 'fr_Al_COO', 'fr_Al_OH', 'fr_Al_OH_noTert', 'fr_ArN', 'fr_Ar_COO', 'fr_Ar_N', 'fr_Ar_NH', 'fr_Ar_OH', 'fr_COO', 'fr_COO2', 'fr_C_O', 'fr_C_O_noCOO', 'fr_C_S', 'fr_HOCCN', 'fr_Imine', 'fr_NH0', 'fr_NH1', 'fr_NH2', 'fr_N_O', 'fr_Ndealkylation1', 'fr_Ndealkylation2', 'fr_Nhpyrrole', 'fr_alkyl_carbamate', 'fr_alkyl_halide', 'fr_allylic_oxid', 'fr_amide', 'fr_amidine', 'fr_aniline', 'fr_aryl_methyl', 'fr_barbitur', 'fr_benzene', 'fr_bicyclic', 'fr_epoxide', 'fr_ester', 'fr_ether', 'fr_furan', 'fr_halogen', 'fr_hdrzine', 'fr_hdrzone', 'fr_imidazole', 'fr_imide', 'fr_ketone', 'fr_ketone_Topliss', 'fr_lactone', 'fr_methoxy', 'fr_morpholine', 'fr_nitrile', 'fr_nitro', 'fr_nitro_arom', 'fr_nitro_arom_nonortho', 'fr_oxazole', 'fr_oxime', 'fr_para_hydroxylation', 'fr_phenol', 'fr_phenol_noOrthoHbond', 'fr_phos_acid', 'fr_phos_ester', 'fr_piperdine', 'fr_piperzine', 'fr_priamide', 'fr_pyridine', 'fr_sulfide', 'fr_sulfonamd', 'fr_sulfone', 'fr_term_acetylene', 'fr_tetrazole', 'fr_thiazole', 'fr_thiophene', 'fr_unbrch_alkane', 'fr_urea']\n",
      "Binary (10): ['NumRadicalElectrons', 'fr_SH', 'fr_aldehyde', 'fr_azide', 'fr_azo', 'fr_dihydropyridine', 'fr_guanido', 'fr_lactam', 'fr_nitroso', 'fr_quatN']\n",
      "Drop (8): ['SMR_VSA8', 'SlogP_VSA9', 'fr_benzodiazepine', 'fr_diazo', 'fr_isocyan', 'fr_isothiocyan', 'fr_prisulfonamd', 'fr_thiocyan']\n"
     ]
    },
    {
     "name": "stderr",
     "output_type": "stream",
     "text": [
      "\n"
     ]
    }
   ],
   "source": [
    "continuous_cols, categorical_cols, binary_cols, drop_cols = plot_column_distribution(zinc)"
   ]
  },
  {
   "cell_type": "code",
   "execution_count": 47,
   "metadata": {},
   "outputs": [
    {
     "data": {
      "text/plain": [
       "29"
      ]
     },
     "execution_count": 47,
     "metadata": {},
     "output_type": "execute_result"
    }
   ],
   "source": [
    "eye_drops = ['BCUT2D_MRHI', 'BCUT2D_MRLOW', 'BCUT2D_MWHI', 'EState_VSA9', 'EState_VSA11', 'PEOE_VSA3', 'PEOE_VSA4', 'PEOE_VSA5', 'PEOE_VSA11', 'PEOE_VSA12', 'PEOE_VSA13', 'PEOE_VSA14',\n",
    " 'SlogP_VSA7', 'SlogP_VSA8', 'SlogP_VSA10', 'SlogP_VSA11', 'SlogP_VSA12', 'SMR_VSA2', 'SMR_VSA4', 'SMR_VSA9', 'SMR_VSA10', 'VSA_EState4', 'VSA_EState5', 'VSA_EState9', 'VSA_EState10',\n",
    " 'NumAromaticCarbocycles', 'NumBridgeheadAtoms', 'NumSpiroAtoms', 'NumUnspecifiedAtomStereoCenters']\n",
    "len(eye_drops)"
   ]
  },
  {
   "cell_type": "code",
   "execution_count": 48,
   "metadata": {},
   "outputs": [
    {
     "data": {
      "text/plain": [
       "(105, 94, 10, 8)"
      ]
     },
     "execution_count": 48,
     "metadata": {},
     "output_type": "execute_result"
    }
   ],
   "source": [
    "len(continuous_cols), len(categorical_cols), len(binary_cols), len(drop_cols)"
   ]
  },
  {
   "cell_type": "code",
   "execution_count": 49,
   "metadata": {},
   "outputs": [
    {
     "data": {
      "text/plain": [
       "20"
      ]
     },
     "execution_count": 49,
     "metadata": {},
     "output_type": "execute_result"
    }
   ],
   "source": [
    "regression_float = [c for c in continuous_cols if c not in eye_drops]\n",
    "regression_int = [c for c in categorical_cols if ('Num' in c or 'Count' in c) and c not in eye_drops]\n",
    "classification_col = [c for c in categorical_cols if c not in regression_int and c not in eye_drops]\n",
    "len(regression_int)"
   ]
  },
  {
   "cell_type": "code",
   "execution_count": 50,
   "metadata": {},
   "outputs": [
    {
     "data": {
      "text/plain": [
       "(10,\n",
       " ['fr_Ar_N',\n",
       "  'fr_C_O',\n",
       "  'fr_C_O_noCOO',\n",
       "  'fr_NH0',\n",
       "  'fr_NH1',\n",
       "  'fr_Ndealkylation2',\n",
       "  'fr_amide',\n",
       "  'fr_aryl_methyl',\n",
       "  'fr_benzene',\n",
       "  'fr_ether'])"
      ]
     },
     "execution_count": 50,
     "metadata": {},
     "output_type": "execute_result"
    }
   ],
   "source": [
    "classification_col_filtered = []\n",
    "for c in classification_col:\n",
    "    cz = zinc[c]\n",
    "    zeros =  cz.to_list().count(0)\n",
    "    if zeros / len(cz) > 0.7:\n",
    "        continue\n",
    "    else:\n",
    "        classification_col_filtered.append(c)\n",
    "len(classification_col_filtered), classification_col_filtered"
   ]
  },
  {
   "cell_type": "code",
   "execution_count": 51,
   "metadata": {},
   "outputs": [
    {
     "data": {
      "text/plain": [
       "(80, 20, 10)"
      ]
     },
     "execution_count": 51,
     "metadata": {},
     "output_type": "execute_result"
    }
   ],
   "source": [
    "len(regression_float), len(regression_int), len(classification_col_filtered)"
   ]
  },
  {
   "cell_type": "code",
   "execution_count": 52,
   "metadata": {},
   "outputs": [],
   "source": [
    "targets = {'Regression_float': regression_float, 'Regression_int': regression_int, 'Classification': classification_col_filtered}"
   ]
  },
  {
   "cell_type": "code",
   "execution_count": 53,
   "metadata": {},
   "outputs": [],
   "source": [
    "import pickle\n",
    "\n",
    "with open('data/zinc/target_cols.pkl', 'wb') as f:\n",
    "    pickle.dump(targets, f)"
   ]
  },
  {
   "cell_type": "code",
   "execution_count": 54,
   "metadata": {},
   "outputs": [
    {
     "data": {
      "text/plain": [
       "{'Regression_float': ['MaxAbsEStateIndex',\n",
       "  'MaxEStateIndex',\n",
       "  'MinAbsEStateIndex',\n",
       "  'MinEStateIndex',\n",
       "  'qed',\n",
       "  'SPS',\n",
       "  'MolWt',\n",
       "  'HeavyAtomMolWt',\n",
       "  'ExactMolWt',\n",
       "  'MaxPartialCharge',\n",
       "  'MinPartialCharge',\n",
       "  'MaxAbsPartialCharge',\n",
       "  'MinAbsPartialCharge',\n",
       "  'FpDensityMorgan1',\n",
       "  'FpDensityMorgan2',\n",
       "  'FpDensityMorgan3',\n",
       "  'BCUT2D_MWLOW',\n",
       "  'BCUT2D_CHGHI',\n",
       "  'BCUT2D_CHGLO',\n",
       "  'BCUT2D_LOGPHI',\n",
       "  'BCUT2D_LOGPLOW',\n",
       "  'AvgIpc',\n",
       "  'BalabanJ',\n",
       "  'BertzCT',\n",
       "  'Chi0',\n",
       "  'Chi0n',\n",
       "  'Chi0v',\n",
       "  'Chi1',\n",
       "  'Chi1n',\n",
       "  'Chi1v',\n",
       "  'Chi2n',\n",
       "  'Chi2v',\n",
       "  'Chi3n',\n",
       "  'Chi3v',\n",
       "  'Chi4n',\n",
       "  'Chi4v',\n",
       "  'HallKierAlpha',\n",
       "  'Ipc',\n",
       "  'Kappa1',\n",
       "  'Kappa2',\n",
       "  'Kappa3',\n",
       "  'LabuteASA',\n",
       "  'PEOE_VSA1',\n",
       "  'PEOE_VSA10',\n",
       "  'PEOE_VSA2',\n",
       "  'PEOE_VSA6',\n",
       "  'PEOE_VSA7',\n",
       "  'PEOE_VSA8',\n",
       "  'PEOE_VSA9',\n",
       "  'SMR_VSA1',\n",
       "  'SMR_VSA3',\n",
       "  'SMR_VSA5',\n",
       "  'SMR_VSA6',\n",
       "  'SMR_VSA7',\n",
       "  'SlogP_VSA1',\n",
       "  'SlogP_VSA2',\n",
       "  'SlogP_VSA3',\n",
       "  'SlogP_VSA4',\n",
       "  'SlogP_VSA5',\n",
       "  'SlogP_VSA6',\n",
       "  'TPSA',\n",
       "  'EState_VSA1',\n",
       "  'EState_VSA10',\n",
       "  'EState_VSA2',\n",
       "  'EState_VSA3',\n",
       "  'EState_VSA4',\n",
       "  'EState_VSA5',\n",
       "  'EState_VSA6',\n",
       "  'EState_VSA7',\n",
       "  'EState_VSA8',\n",
       "  'VSA_EState1',\n",
       "  'VSA_EState2',\n",
       "  'VSA_EState3',\n",
       "  'VSA_EState6',\n",
       "  'VSA_EState7',\n",
       "  'VSA_EState8',\n",
       "  'FractionCSP3',\n",
       "  'Phi',\n",
       "  'MolLogP',\n",
       "  'MolMR'],\n",
       " 'Regression_int': ['NumValenceElectrons',\n",
       "  'HeavyAtomCount',\n",
       "  'NHOHCount',\n",
       "  'NOCount',\n",
       "  'NumAliphaticCarbocycles',\n",
       "  'NumAliphaticHeterocycles',\n",
       "  'NumAliphaticRings',\n",
       "  'NumAmideBonds',\n",
       "  'NumAromaticHeterocycles',\n",
       "  'NumAromaticRings',\n",
       "  'NumAtomStereoCenters',\n",
       "  'NumHAcceptors',\n",
       "  'NumHDonors',\n",
       "  'NumHeteroatoms',\n",
       "  'NumHeterocycles',\n",
       "  'NumRotatableBonds',\n",
       "  'NumSaturatedCarbocycles',\n",
       "  'NumSaturatedHeterocycles',\n",
       "  'NumSaturatedRings',\n",
       "  'RingCount'],\n",
       " 'Classification': ['fr_Ar_N',\n",
       "  'fr_C_O',\n",
       "  'fr_C_O_noCOO',\n",
       "  'fr_NH0',\n",
       "  'fr_NH1',\n",
       "  'fr_Ndealkylation2',\n",
       "  'fr_amide',\n",
       "  'fr_aryl_methyl',\n",
       "  'fr_benzene',\n",
       "  'fr_ether']}"
      ]
     },
     "execution_count": 54,
     "metadata": {},
     "output_type": "execute_result"
    }
   ],
   "source": [
    "import pickle\n",
    "with open('data/zinc/target_cols.pkl', 'rb') as f:\n",
    "    target_cols = pickle.load(f)\n",
    "\n",
    "target_cols"
   ]
  },
  {
   "cell_type": "code",
   "execution_count": null,
   "metadata": {},
   "outputs": [],
   "source": []
  }
 ],
 "metadata": {
  "kernelspec": {
   "display_name": "grapose",
   "language": "python",
   "name": "python3"
  },
  "language_info": {
   "codemirror_mode": {
    "name": "ipython",
    "version": 3
   },
   "file_extension": ".py",
   "mimetype": "text/x-python",
   "name": "python",
   "nbconvert_exporter": "python",
   "pygments_lexer": "ipython3",
   "version": "3.12.6"
  }
 },
 "nbformat": 4,
 "nbformat_minor": 2
}
