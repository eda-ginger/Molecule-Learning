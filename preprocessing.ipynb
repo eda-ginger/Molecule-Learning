{
 "cells": [
  {
   "cell_type": "code",
   "execution_count": 2,
   "metadata": {},
   "outputs": [],
   "source": [
    "import polars as pl\n",
    "from tqdm import tqdm\n",
    "from rdkit import Chem"
   ]
  },
  {
   "cell_type": "code",
   "execution_count": 3,
   "metadata": {},
   "outputs": [
    {
     "data": {
      "text/html": [
       "<div><style>\n",
       ".dataframe > thead > tr,\n",
       ".dataframe > tbody > tr {\n",
       "  text-align: right;\n",
       "  white-space: pre-wrap;\n",
       "}\n",
       "</style>\n",
       "<small>shape: (250_000, 1)</small><table border=\"1\" class=\"dataframe\"><thead><tr><th>smiles</th></tr><tr><td>str</td></tr></thead><tbody><tr><td>&quot;CCN(CCSC)C(=O)N[C@@](C)(CC)C(F…</td></tr><tr><td>&quot;CC1(C)CN(C(=O)Nc2cc3ccccc3nn2)…</td></tr><tr><td>&quot;CC[C@H](NC(C)=O)C(=O)NCC1(NC(=…</td></tr><tr><td>&quot;O=C(N[C@@H]1CC[C@H](F)C1)[C@H]…</td></tr><tr><td>&quot;COCC(=O)N(C)CC(=O)NCC1(Nc2nccn…</td></tr><tr><td>&hellip;</td></tr><tr><td>&quot;Cc1ccn(C)c1C(=O)OCCc1cn(Cc2ccc…</td></tr><tr><td>&quot;Nc1nc(Cl)cc2ncn(-c3cccc(C(=O)N…</td></tr><tr><td>&quot;Cc1c(C(=O)N[C@H](C)Cn2cccn2)cn…</td></tr><tr><td>&quot;C[C@@H]1CN(CCS(C)(=O)=O)C[C@H]…</td></tr><tr><td>&quot;CC(F)(F)c1ccc(C(=O)N2CCOC[C@H]…</td></tr></tbody></table></div>"
      ],
      "text/plain": [
       "shape: (250_000, 1)\n",
       "┌─────────────────────────────────┐\n",
       "│ smiles                          │\n",
       "│ ---                             │\n",
       "│ str                             │\n",
       "╞═════════════════════════════════╡\n",
       "│ CCN(CCSC)C(=O)N[C@@](C)(CC)C(F… │\n",
       "│ CC1(C)CN(C(=O)Nc2cc3ccccc3nn2)… │\n",
       "│ CC[C@H](NC(C)=O)C(=O)NCC1(NC(=… │\n",
       "│ O=C(N[C@@H]1CC[C@H](F)C1)[C@H]… │\n",
       "│ COCC(=O)N(C)CC(=O)NCC1(Nc2nccn… │\n",
       "│ …                               │\n",
       "│ Cc1ccn(C)c1C(=O)OCCc1cn(Cc2ccc… │\n",
       "│ Nc1nc(Cl)cc2ncn(-c3cccc(C(=O)N… │\n",
       "│ Cc1c(C(=O)N[C@H](C)Cn2cccn2)cn… │\n",
       "│ C[C@@H]1CN(CCS(C)(=O)=O)C[C@H]… │\n",
       "│ CC(F)(F)c1ccc(C(=O)N2CCOC[C@H]… │\n",
       "└─────────────────────────────────┘"
      ]
     },
     "execution_count": 3,
     "metadata": {},
     "output_type": "execute_result"
    }
   ],
   "source": [
    "data = pl.read_csv('data/zinc/zinc15_250k.csv')\n",
    "data"
   ]
  },
  {
   "cell_type": "code",
   "execution_count": 4,
   "metadata": {},
   "outputs": [],
   "source": [
    "from rdkit.Chem.Descriptors import CalcMolDescriptors"
   ]
  },
  {
   "cell_type": "code",
   "execution_count": 5,
   "metadata": {},
   "outputs": [
    {
     "name": "stderr",
     "output_type": "stream",
     "text": [
      "100%|██████████| 250000/250000 [24:09<00:00, 172.51it/s]\n"
     ]
    },
    {
     "ename": "AttributeError",
     "evalue": "'DataFrame' object has no attribute 'to_csv'",
     "output_type": "error",
     "traceback": [
      "\u001b[1;31m---------------------------------------------------------------------------\u001b[0m",
      "\u001b[1;31mAttributeError\u001b[0m                            Traceback (most recent call last)",
      "Cell \u001b[1;32mIn[5], line 9\u001b[0m\n\u001b[0;32m      7\u001b[0m     row\u001b[38;5;241m.\u001b[39mappend(sub)\n\u001b[0;32m      8\u001b[0m zinc \u001b[38;5;241m=\u001b[39m pl\u001b[38;5;241m.\u001b[39mDataFrame(row)\n\u001b[1;32m----> 9\u001b[0m \u001b[43mzinc\u001b[49m\u001b[38;5;241;43m.\u001b[39;49m\u001b[43mto_csv\u001b[49m(\u001b[38;5;124m'\u001b[39m\u001b[38;5;124mdata/zinc/descriptors.csv\u001b[39m\u001b[38;5;124m'\u001b[39m, index \u001b[38;5;241m=\u001b[39m \u001b[38;5;28;01mFalse\u001b[39;00m)\n",
      "\u001b[1;31mAttributeError\u001b[0m: 'DataFrame' object has no attribute 'to_csv'"
     ]
    }
   ],
   "source": [
    "row = []\n",
    "for i in tqdm(data['smiles']):\n",
    "    desc = CalcMolDescriptors(Chem.MolFromSmiles(i))\n",
    "    sub = {'smiles': i}\n",
    "    for k, v in desc.items():\n",
    "        sub[k] = v\n",
    "    row.append(sub)\n",
    "zinc = pl.DataFrame(row)\n",
    "# zinc.to_csv('data/zinc/descriptors.csv', index = False)"
   ]
  },
  {
   "cell_type": "code",
   "execution_count": 6,
   "metadata": {},
   "outputs": [],
   "source": [
    "zinc.write_csv('data/zinc/descriptors.csv')"
   ]
  },
  {
   "cell_type": "code",
   "execution_count": 7,
   "metadata": {},
   "outputs": [
    {
     "data": {
      "text/html": [
       "<div><style>\n",
       ".dataframe > thead > tr,\n",
       ".dataframe > tbody > tr {\n",
       "  text-align: right;\n",
       "  white-space: pre-wrap;\n",
       "}\n",
       "</style>\n",
       "<small>shape: (5, 218)</small><table border=\"1\" class=\"dataframe\"><thead><tr><th>smiles</th><th>MaxAbsEStateIndex</th><th>MaxEStateIndex</th><th>MinAbsEStateIndex</th><th>MinEStateIndex</th><th>qed</th><th>SPS</th><th>MolWt</th><th>HeavyAtomMolWt</th><th>ExactMolWt</th><th>NumValenceElectrons</th><th>NumRadicalElectrons</th><th>MaxPartialCharge</th><th>MinPartialCharge</th><th>MaxAbsPartialCharge</th><th>MinAbsPartialCharge</th><th>FpDensityMorgan1</th><th>FpDensityMorgan2</th><th>FpDensityMorgan3</th><th>BCUT2D_MWHI</th><th>BCUT2D_MWLOW</th><th>BCUT2D_CHGHI</th><th>BCUT2D_CHGLO</th><th>BCUT2D_LOGPHI</th><th>BCUT2D_LOGPLOW</th><th>BCUT2D_MRHI</th><th>BCUT2D_MRLOW</th><th>AvgIpc</th><th>BalabanJ</th><th>BertzCT</th><th>Chi0</th><th>Chi0n</th><th>Chi0v</th><th>Chi1</th><th>Chi1n</th><th>Chi1v</th><th>Chi2n</th><th>&hellip;</th><th>fr_imide</th><th>fr_isocyan</th><th>fr_isothiocyan</th><th>fr_ketone</th><th>fr_ketone_Topliss</th><th>fr_lactam</th><th>fr_lactone</th><th>fr_methoxy</th><th>fr_morpholine</th><th>fr_nitrile</th><th>fr_nitro</th><th>fr_nitro_arom</th><th>fr_nitro_arom_nonortho</th><th>fr_nitroso</th><th>fr_oxazole</th><th>fr_oxime</th><th>fr_para_hydroxylation</th><th>fr_phenol</th><th>fr_phenol_noOrthoHbond</th><th>fr_phos_acid</th><th>fr_phos_ester</th><th>fr_piperdine</th><th>fr_piperzine</th><th>fr_priamide</th><th>fr_prisulfonamd</th><th>fr_pyridine</th><th>fr_quatN</th><th>fr_sulfide</th><th>fr_sulfonamd</th><th>fr_sulfone</th><th>fr_term_acetylene</th><th>fr_tetrazole</th><th>fr_thiazole</th><th>fr_thiocyan</th><th>fr_thiophene</th><th>fr_unbrch_alkane</th><th>fr_urea</th></tr><tr><td>str</td><td>f64</td><td>f64</td><td>f64</td><td>f64</td><td>f64</td><td>f64</td><td>f64</td><td>f64</td><td>f64</td><td>i64</td><td>i64</td><td>f64</td><td>f64</td><td>f64</td><td>f64</td><td>f64</td><td>f64</td><td>f64</td><td>f64</td><td>f64</td><td>f64</td><td>f64</td><td>f64</td><td>f64</td><td>f64</td><td>f64</td><td>f64</td><td>f64</td><td>f64</td><td>f64</td><td>f64</td><td>f64</td><td>f64</td><td>f64</td><td>f64</td><td>f64</td><td>&hellip;</td><td>i64</td><td>i64</td><td>i64</td><td>i64</td><td>i64</td><td>i64</td><td>i64</td><td>i64</td><td>i64</td><td>i64</td><td>i64</td><td>i64</td><td>i64</td><td>i64</td><td>i64</td><td>i64</td><td>i64</td><td>i64</td><td>i64</td><td>i64</td><td>i64</td><td>i64</td><td>i64</td><td>i64</td><td>i64</td><td>i64</td><td>i64</td><td>i64</td><td>i64</td><td>i64</td><td>i64</td><td>i64</td><td>i64</td><td>i64</td><td>i64</td><td>i64</td><td>i64</td></tr></thead><tbody><tr><td>&quot;CCN(CCSC)C(=O)N[C@@](C)(CC)C(F…</td><td>12.847028</td><td>12.847028</td><td>0.192141</td><td>-4.448088</td><td>0.813426</td><td>15.055556</td><td>286.363</td><td>265.195</td><td>286.132669</td><td>108</td><td>0</td><td>0.410764</td><td>-0.324266</td><td>0.410764</td><td>0.324266</td><td>1.333333</td><td>1.888889</td><td>2.222222</td><td>32.166364</td><td>9.983547</td><td>2.506565</td><td>-2.33959</td><td>2.322233</td><td>-2.589096</td><td>7.981279</td><td>-0.188741</td><td>2.278945</td><td>4.689303</td><td>243.25415</td><td>14.397341</td><td>11.226031</td><td>12.042527</td><td>8.213856</td><td>5.841824</td><td>7.23567</td><td>4.18604</td><td>&hellip;</td><td>0</td><td>0</td><td>0</td><td>0</td><td>0</td><td>0</td><td>0</td><td>0</td><td>0</td><td>0</td><td>0</td><td>0</td><td>0</td><td>0</td><td>0</td><td>0</td><td>0</td><td>0</td><td>0</td><td>0</td><td>0</td><td>0</td><td>0</td><td>0</td><td>0</td><td>0</td><td>0</td><td>1</td><td>0</td><td>0</td><td>0</td><td>0</td><td>0</td><td>0</td><td>0</td><td>0</td><td>1</td></tr><tr><td>&quot;CC1(C)CN(C(=O)Nc2cc3ccccc3nn2)…</td><td>12.782073</td><td>12.782073</td><td>0.187749</td><td>-0.4183</td><td>0.861236</td><td>25.44</td><td>342.399</td><td>320.223</td><td>342.169191</td><td>132</td><td>0</td><td>0.32276</td><td>-0.378263</td><td>0.378263</td><td>0.32276</td><td>1.24</td><td>2.08</td><td>2.88</td><td>16.57234</td><td>9.949965</td><td>2.475944</td><td>-2.472764</td><td>2.343682</td><td>-2.6156</td><td>5.904205</td><td>-0.184603</td><td>2.998999</td><td>1.5245</td><td>773.479822</td><td>17.493353</td><td>14.488671</td><td>14.488671</td><td>11.94782</td><td>8.511913</td><td>8.511913</td><td>7.421962</td><td>&hellip;</td><td>0</td><td>0</td><td>0</td><td>0</td><td>0</td><td>0</td><td>0</td><td>0</td><td>1</td><td>0</td><td>0</td><td>0</td><td>0</td><td>0</td><td>0</td><td>0</td><td>0</td><td>0</td><td>0</td><td>0</td><td>0</td><td>0</td><td>0</td><td>0</td><td>0</td><td>0</td><td>0</td><td>0</td><td>0</td><td>0</td><td>0</td><td>0</td><td>0</td><td>0</td><td>0</td><td>0</td><td>1</td></tr><tr><td>&quot;CC[C@H](NC(C)=O)C(=O)NCC1(NC(=…</td><td>12.108206</td><td>12.108206</td><td>0.091773</td><td>-0.557541</td><td>0.592397</td><td>16.125</td><td>337.38</td><td>314.196</td><td>337.175004</td><td>132</td><td>0</td><td>0.242149</td><td>-0.351964</td><td>0.351964</td><td>0.242149</td><td>1.291667</td><td>2.0</td><td>2.5</td><td>16.563397</td><td>10.150639</td><td>2.440597</td><td>-2.206016</td><td>2.342322</td><td>-2.510526</td><td>5.865991</td><td>-0.128019</td><td>3.169638</td><td>1.812369</td><td>591.309427</td><td>17.742276</td><td>14.140305</td><td>14.140305</td><td>11.348973</td><td>7.98876</td><td>7.98876</td><td>6.180773</td><td>&hellip;</td><td>0</td><td>0</td><td>0</td><td>0</td><td>0</td><td>0</td><td>0</td><td>0</td><td>0</td><td>0</td><td>0</td><td>0</td><td>0</td><td>0</td><td>0</td><td>0</td><td>0</td><td>0</td><td>0</td><td>0</td><td>0</td><td>0</td><td>0</td><td>0</td><td>0</td><td>0</td><td>0</td><td>0</td><td>0</td><td>0</td><td>0</td><td>0</td><td>0</td><td>0</td><td>0</td><td>0</td><td>0</td></tr><tr><td>&quot;O=C(N[C@@H]1CC[C@H](F)C1)[C@H]…</td><td>13.165747</td><td>13.165747</td><td>0.015019</td><td>-0.751764</td><td>0.933437</td><td>32.590909</td><td>305.349</td><td>285.189</td><td>305.142722</td><td>118</td><td>0</td><td>0.223467</td><td>-0.486147</td><td>0.486147</td><td>0.223467</td><td>1.136364</td><td>1.954545</td><td>2.727273</td><td>19.144178</td><td>10.076906</td><td>2.447214</td><td>-2.185646</td><td>2.491714</td><td>-2.340244</td><td>5.828642</td><td>-0.122625</td><td>3.238834</td><td>1.380225</td><td>567.401084</td><td>15.104084</td><td>12.386802</td><td>12.386802</td><td>10.70351</td><td>8.044823</td><td>8.044823</td><td>6.46763</td><td>&hellip;</td><td>0</td><td>0</td><td>0</td><td>0</td><td>0</td><td>0</td><td>0</td><td>0</td><td>0</td><td>0</td><td>0</td><td>0</td><td>0</td><td>0</td><td>0</td><td>0</td><td>0</td><td>0</td><td>0</td><td>0</td><td>0</td><td>0</td><td>0</td><td>0</td><td>0</td><td>0</td><td>0</td><td>0</td><td>0</td><td>0</td><td>0</td><td>0</td><td>0</td><td>0</td><td>0</td><td>0</td><td>0</td></tr><tr><td>&quot;COCC(=O)N(C)CC(=O)NCC1(Nc2nccn…</td><td>12.034431</td><td>12.034431</td><td>0.013687</td><td>-0.25837</td><td>0.601673</td><td>14.96</td><td>348.367</td><td>328.207</td><td>348.165837</td><td>134</td><td>0</td><td>0.248258</td><td>-0.374871</td><td>0.374871</td><td>0.248258</td><td>1.44</td><td>2.24</td><td>2.96</td><td>16.467672</td><td>10.232767</td><td>2.433469</td><td>-2.203379</td><td>2.379021</td><td>-2.438934</td><td>5.847991</td><td>-0.137218</td><td>3.169754</td><td>1.534145</td><td>738.239013</td><td>17.863597</td><td>14.098261</td><td>14.098261</td><td>12.027606</td><td>7.834092</td><td>7.834092</td><td>6.087784</td><td>&hellip;</td><td>0</td><td>0</td><td>0</td><td>0</td><td>0</td><td>0</td><td>0</td><td>1</td><td>0</td><td>0</td><td>0</td><td>0</td><td>0</td><td>0</td><td>0</td><td>0</td><td>0</td><td>0</td><td>0</td><td>0</td><td>0</td><td>0</td><td>0</td><td>0</td><td>0</td><td>0</td><td>0</td><td>0</td><td>0</td><td>0</td><td>0</td><td>1</td><td>0</td><td>0</td><td>0</td><td>0</td><td>0</td></tr></tbody></table></div>"
      ],
      "text/plain": [
       "shape: (5, 218)\n",
       "┌────────────┬───────────┬───────────┬───────────┬───┬───────────┬───────────┬───────────┬─────────┐\n",
       "│ smiles     ┆ MaxAbsESt ┆ MaxEState ┆ MinAbsESt ┆ … ┆ fr_thiocy ┆ fr_thioph ┆ fr_unbrch ┆ fr_urea │\n",
       "│ ---        ┆ ateIndex  ┆ Index     ┆ ateIndex  ┆   ┆ an        ┆ ene       ┆ _alkane   ┆ ---     │\n",
       "│ str        ┆ ---       ┆ ---       ┆ ---       ┆   ┆ ---       ┆ ---       ┆ ---       ┆ i64     │\n",
       "│            ┆ f64       ┆ f64       ┆ f64       ┆   ┆ i64       ┆ i64       ┆ i64       ┆         │\n",
       "╞════════════╪═══════════╪═══════════╪═══════════╪═══╪═══════════╪═══════════╪═══════════╪═════════╡\n",
       "│ CCN(CCSC)C ┆ 12.847028 ┆ 12.847028 ┆ 0.192141  ┆ … ┆ 0         ┆ 0         ┆ 0         ┆ 1       │\n",
       "│ (=O)N[C@@] ┆           ┆           ┆           ┆   ┆           ┆           ┆           ┆         │\n",
       "│ (C)(CC)C(F ┆           ┆           ┆           ┆   ┆           ┆           ┆           ┆         │\n",
       "│ …          ┆           ┆           ┆           ┆   ┆           ┆           ┆           ┆         │\n",
       "│ CC1(C)CN(C ┆ 12.782073 ┆ 12.782073 ┆ 0.187749  ┆ … ┆ 0         ┆ 0         ┆ 0         ┆ 1       │\n",
       "│ (=O)Nc2cc3 ┆           ┆           ┆           ┆   ┆           ┆           ┆           ┆         │\n",
       "│ ccccc3nn2) ┆           ┆           ┆           ┆   ┆           ┆           ┆           ┆         │\n",
       "│ …          ┆           ┆           ┆           ┆   ┆           ┆           ┆           ┆         │\n",
       "│ CC[C@H](NC ┆ 12.108206 ┆ 12.108206 ┆ 0.091773  ┆ … ┆ 0         ┆ 0         ┆ 0         ┆ 0       │\n",
       "│ (C)=O)C(=O ┆           ┆           ┆           ┆   ┆           ┆           ┆           ┆         │\n",
       "│ )NCC1(NC(= ┆           ┆           ┆           ┆   ┆           ┆           ┆           ┆         │\n",
       "│ …          ┆           ┆           ┆           ┆   ┆           ┆           ┆           ┆         │\n",
       "│ O=C(N[C@@H ┆ 13.165747 ┆ 13.165747 ┆ 0.015019  ┆ … ┆ 0         ┆ 0         ┆ 0         ┆ 0       │\n",
       "│ ]1CC[C@H]( ┆           ┆           ┆           ┆   ┆           ┆           ┆           ┆         │\n",
       "│ F)C1)[C@H] ┆           ┆           ┆           ┆   ┆           ┆           ┆           ┆         │\n",
       "│ …          ┆           ┆           ┆           ┆   ┆           ┆           ┆           ┆         │\n",
       "│ COCC(=O)N( ┆ 12.034431 ┆ 12.034431 ┆ 0.013687  ┆ … ┆ 0         ┆ 0         ┆ 0         ┆ 0       │\n",
       "│ C)CC(=O)NC ┆           ┆           ┆           ┆   ┆           ┆           ┆           ┆         │\n",
       "│ C1(Nc2nccn ┆           ┆           ┆           ┆   ┆           ┆           ┆           ┆         │\n",
       "│ …          ┆           ┆           ┆           ┆   ┆           ┆           ┆           ┆         │\n",
       "└────────────┴───────────┴───────────┴───────────┴───┴───────────┴───────────┴───────────┴─────────┘"
      ]
     },
     "execution_count": 7,
     "metadata": {},
     "output_type": "execute_result"
    }
   ],
   "source": [
    "zinc.head()"
   ]
  },
  {
   "cell_type": "code",
   "execution_count": 17,
   "metadata": {},
   "outputs": [
    {
     "data": {
      "text/html": [
       "<div><style>\n",
       ".dataframe > thead > tr,\n",
       ".dataframe > tbody > tr {\n",
       "  text-align: right;\n",
       "  white-space: pre-wrap;\n",
       "}\n",
       "</style>\n",
       "<small>shape: (9, 219)</small><table border=\"1\" class=\"dataframe\"><thead><tr><th>statistic</th><th>smiles</th><th>MaxAbsEStateIndex</th><th>MaxEStateIndex</th><th>MinAbsEStateIndex</th><th>MinEStateIndex</th><th>qed</th><th>SPS</th><th>MolWt</th><th>HeavyAtomMolWt</th><th>ExactMolWt</th><th>NumValenceElectrons</th><th>NumRadicalElectrons</th><th>MaxPartialCharge</th><th>MinPartialCharge</th><th>MaxAbsPartialCharge</th><th>MinAbsPartialCharge</th><th>FpDensityMorgan1</th><th>FpDensityMorgan2</th><th>FpDensityMorgan3</th><th>BCUT2D_MWHI</th><th>BCUT2D_MWLOW</th><th>BCUT2D_CHGHI</th><th>BCUT2D_CHGLO</th><th>BCUT2D_LOGPHI</th><th>BCUT2D_LOGPLOW</th><th>BCUT2D_MRHI</th><th>BCUT2D_MRLOW</th><th>AvgIpc</th><th>BalabanJ</th><th>BertzCT</th><th>Chi0</th><th>Chi0n</th><th>Chi0v</th><th>Chi1</th><th>Chi1n</th><th>Chi1v</th><th>&hellip;</th><th>fr_imide</th><th>fr_isocyan</th><th>fr_isothiocyan</th><th>fr_ketone</th><th>fr_ketone_Topliss</th><th>fr_lactam</th><th>fr_lactone</th><th>fr_methoxy</th><th>fr_morpholine</th><th>fr_nitrile</th><th>fr_nitro</th><th>fr_nitro_arom</th><th>fr_nitro_arom_nonortho</th><th>fr_nitroso</th><th>fr_oxazole</th><th>fr_oxime</th><th>fr_para_hydroxylation</th><th>fr_phenol</th><th>fr_phenol_noOrthoHbond</th><th>fr_phos_acid</th><th>fr_phos_ester</th><th>fr_piperdine</th><th>fr_piperzine</th><th>fr_priamide</th><th>fr_prisulfonamd</th><th>fr_pyridine</th><th>fr_quatN</th><th>fr_sulfide</th><th>fr_sulfonamd</th><th>fr_sulfone</th><th>fr_term_acetylene</th><th>fr_tetrazole</th><th>fr_thiazole</th><th>fr_thiocyan</th><th>fr_thiophene</th><th>fr_unbrch_alkane</th><th>fr_urea</th></tr><tr><td>str</td><td>str</td><td>f64</td><td>f64</td><td>f64</td><td>f64</td><td>f64</td><td>f64</td><td>f64</td><td>f64</td><td>f64</td><td>f64</td><td>f64</td><td>f64</td><td>f64</td><td>f64</td><td>f64</td><td>f64</td><td>f64</td><td>f64</td><td>f64</td><td>f64</td><td>f64</td><td>f64</td><td>f64</td><td>f64</td><td>f64</td><td>f64</td><td>f64</td><td>f64</td><td>f64</td><td>f64</td><td>f64</td><td>f64</td><td>f64</td><td>f64</td><td>f64</td><td>&hellip;</td><td>f64</td><td>f64</td><td>f64</td><td>f64</td><td>f64</td><td>f64</td><td>f64</td><td>f64</td><td>f64</td><td>f64</td><td>f64</td><td>f64</td><td>f64</td><td>f64</td><td>f64</td><td>f64</td><td>f64</td><td>f64</td><td>f64</td><td>f64</td><td>f64</td><td>f64</td><td>f64</td><td>f64</td><td>f64</td><td>f64</td><td>f64</td><td>f64</td><td>f64</td><td>f64</td><td>f64</td><td>f64</td><td>f64</td><td>f64</td><td>f64</td><td>f64</td><td>f64</td></tr></thead><tbody><tr><td>&quot;count&quot;</td><td>&quot;250000&quot;</td><td>250000.0</td><td>250000.0</td><td>250000.0</td><td>250000.0</td><td>250000.0</td><td>250000.0</td><td>250000.0</td><td>250000.0</td><td>250000.0</td><td>250000.0</td><td>250000.0</td><td>250000.0</td><td>250000.0</td><td>250000.0</td><td>250000.0</td><td>250000.0</td><td>250000.0</td><td>250000.0</td><td>250000.0</td><td>250000.0</td><td>250000.0</td><td>250000.0</td><td>250000.0</td><td>250000.0</td><td>250000.0</td><td>250000.0</td><td>250000.0</td><td>250000.0</td><td>250000.0</td><td>250000.0</td><td>250000.0</td><td>250000.0</td><td>250000.0</td><td>250000.0</td><td>250000.0</td><td>&hellip;</td><td>250000.0</td><td>250000.0</td><td>250000.0</td><td>250000.0</td><td>250000.0</td><td>250000.0</td><td>250000.0</td><td>250000.0</td><td>250000.0</td><td>250000.0</td><td>250000.0</td><td>250000.0</td><td>250000.0</td><td>250000.0</td><td>250000.0</td><td>250000.0</td><td>250000.0</td><td>250000.0</td><td>250000.0</td><td>250000.0</td><td>250000.0</td><td>250000.0</td><td>250000.0</td><td>250000.0</td><td>250000.0</td><td>250000.0</td><td>250000.0</td><td>250000.0</td><td>250000.0</td><td>250000.0</td><td>250000.0</td><td>250000.0</td><td>250000.0</td><td>250000.0</td><td>250000.0</td><td>250000.0</td><td>250000.0</td></tr><tr><td>&quot;null_count&quot;</td><td>&quot;0&quot;</td><td>0.0</td><td>0.0</td><td>0.0</td><td>0.0</td><td>0.0</td><td>0.0</td><td>0.0</td><td>0.0</td><td>0.0</td><td>0.0</td><td>0.0</td><td>0.0</td><td>0.0</td><td>0.0</td><td>0.0</td><td>0.0</td><td>0.0</td><td>0.0</td><td>0.0</td><td>0.0</td><td>0.0</td><td>0.0</td><td>0.0</td><td>0.0</td><td>0.0</td><td>0.0</td><td>0.0</td><td>0.0</td><td>0.0</td><td>0.0</td><td>0.0</td><td>0.0</td><td>0.0</td><td>0.0</td><td>0.0</td><td>&hellip;</td><td>0.0</td><td>0.0</td><td>0.0</td><td>0.0</td><td>0.0</td><td>0.0</td><td>0.0</td><td>0.0</td><td>0.0</td><td>0.0</td><td>0.0</td><td>0.0</td><td>0.0</td><td>0.0</td><td>0.0</td><td>0.0</td><td>0.0</td><td>0.0</td><td>0.0</td><td>0.0</td><td>0.0</td><td>0.0</td><td>0.0</td><td>0.0</td><td>0.0</td><td>0.0</td><td>0.0</td><td>0.0</td><td>0.0</td><td>0.0</td><td>0.0</td><td>0.0</td><td>0.0</td><td>0.0</td><td>0.0</td><td>0.0</td><td>0.0</td></tr><tr><td>&quot;mean&quot;</td><td>null</td><td>12.019824</td><td>12.019824</td><td>0.105626</td><td>-0.733466</td><td>0.744795</td><td>20.425499</td><td>311.228764</td><td>288.792793</td><td>310.976896</td><td>120.164108</td><td>0.000036</td><td>0.269207</td><td>-0.395578</td><td>0.396862</td><td>0.267923</td><td>1.34082</td><td>2.084712</td><td>2.716911</td><td>20.948906</td><td>10.024296</td><td>2.31237</td><td>-2.270544</td><td>2.254416</td><td>-2.428359</td><td>6.229059</td><td>-0.059879</td><td>2.881516</td><td>1.852333</td><td>536.657421</td><td>15.917474</td><td>12.974477</td><td>13.190514</td><td>10.498499</td><td>7.591624</td><td>7.859077</td><td>&hellip;</td><td>0.025708</td><td>0.0</td><td>0.0</td><td>0.014752</td><td>0.01404</td><td>0.000844</td><td>0.007432</td><td>0.17776</td><td>0.054396</td><td>0.045616</td><td>0.01266</td><td>0.008476</td><td>0.003988</td><td>0.000084</td><td>0.022092</td><td>0.002036</td><td>0.055172</td><td>0.012284</td><td>0.01216</td><td>0.00008</td><td>0.00008</td><td>0.195792</td><td>0.046076</td><td>0.079752</td><td>0.0</td><td>0.130492</td><td>0.000044</td><td>0.03186</td><td>0.042112</td><td>0.02614</td><td>0.015872</td><td>0.036476</td><td>0.030632</td><td>0.0</td><td>0.027276</td><td>0.038064</td><td>0.103104</td></tr><tr><td>&quot;std&quot;</td><td>null</td><td>1.485571</td><td>1.485571</td><td>0.115833</td><td>1.117848</td><td>0.127258</td><td>6.485662</td><td>26.156878</td><td>25.073642</td><td>26.137762</td><td>11.102986</td><td>0.006</td><td>0.05874</td><td>0.056127</td><td>0.055833</td><td>0.056174</td><td>0.141381</td><td>0.183234</td><td>0.232884</td><td>8.90973</td><td>0.15646</td><td>0.125306</td><td>0.114741</td><td>0.128309</td><td>0.124958</td><td>0.764557</td><td>0.149732</td><td>0.293337</td><td>0.434126</td><td>133.223279</td><td>1.44793</td><td>1.42112</td><td>1.310691</td><td>1.04983</td><td>1.013426</td><td>0.963176</td><td>&hellip;</td><td>0.162921</td><td>0.0</td><td>0.0</td><td>0.122533</td><td>0.11931</td><td>0.029039</td><td>0.08663</td><td>0.42672</td><td>0.230264</td><td>0.212714</td><td>0.11333</td><td>0.092759</td><td>0.063404</td><td>0.009165</td><td>0.148068</td><td>0.045342</td><td>0.256921</td><td>0.117018</td><td>0.116465</td><td>0.009381</td><td>0.009381</td><td>0.425791</td><td>0.218122</td><td>0.279385</td><td>0.0</td><td>0.353531</td><td>0.006633</td><td>0.180945</td><td>0.203869</td><td>0.160626</td><td>0.125905</td><td>0.189192</td><td>0.173729</td><td>0.0</td><td>0.164134</td><td>0.268714</td><td>0.307756</td></tr><tr><td>&quot;min&quot;</td><td>&quot;Bc1cnc(NCC2(O)CCOCC2)c(C(=O)OC…</td><td>2.357438</td><td>2.357438</td><td>6.6613e-16</td><td>-6.071032</td><td>0.114868</td><td>8.833333</td><td>250.125</td><td>220.19</td><td>249.032334</td><td>54.0</td><td>0.0</td><td>0.001914</td><td>-0.710601</td><td>0.204161</td><td>0.001914</td><td>0.5</td><td>0.727273</td><td>0.95</td><td>14.695003</td><td>9.287755</td><td>1.865692</td><td>-2.753016</td><td>1.66431</td><td>-2.839089</td><td>4.595897</td><td>-0.946705</td><td>1.617252</td><td>0.987</td><td>132.1173</td><td>7.723615</td><td>5.205204</td><td>7.362702</td><td>4.193376</td><td>2.447895</td><td>3.61724</td><td>&hellip;</td><td>0.0</td><td>0.0</td><td>0.0</td><td>0.0</td><td>0.0</td><td>0.0</td><td>0.0</td><td>0.0</td><td>0.0</td><td>0.0</td><td>0.0</td><td>0.0</td><td>0.0</td><td>0.0</td><td>0.0</td><td>0.0</td><td>0.0</td><td>0.0</td><td>0.0</td><td>0.0</td><td>0.0</td><td>0.0</td><td>0.0</td><td>0.0</td><td>0.0</td><td>0.0</td><td>0.0</td><td>0.0</td><td>0.0</td><td>0.0</td><td>0.0</td><td>0.0</td><td>0.0</td><td>0.0</td><td>0.0</td><td>0.0</td><td>0.0</td></tr><tr><td>&quot;25%&quot;</td><td>null</td><td>11.933826</td><td>11.933826</td><td>0.029066</td><td>-0.802881</td><td>0.665272</td><td>15.5</td><td>292.383</td><td>270.248</td><td>292.178693</td><td>112.0</td><td>0.0</td><td>0.236273</td><td>-0.452876</td><td>0.353341</td><td>0.236238</td><td>1.25</td><td>1.958333</td><td>2.571429</td><td>16.268799</td><td>9.919353</td><td>2.229464</td><td>-2.357766</td><td>2.173977</td><td>-2.50745</td><td>5.814333</td><td>-0.137855</td><td>2.631007</td><td>1.565182</td><td>442.603409</td><td>14.872033</td><td>12.008457</td><td>12.280604</td><td>9.740713</td><td>6.90482</td><td>7.199224</td><td>&hellip;</td><td>0.0</td><td>0.0</td><td>0.0</td><td>0.0</td><td>0.0</td><td>0.0</td><td>0.0</td><td>0.0</td><td>0.0</td><td>0.0</td><td>0.0</td><td>0.0</td><td>0.0</td><td>0.0</td><td>0.0</td><td>0.0</td><td>0.0</td><td>0.0</td><td>0.0</td><td>0.0</td><td>0.0</td><td>0.0</td><td>0.0</td><td>0.0</td><td>0.0</td><td>0.0</td><td>0.0</td><td>0.0</td><td>0.0</td><td>0.0</td><td>0.0</td><td>0.0</td><td>0.0</td><td>0.0</td><td>0.0</td><td>0.0</td><td>0.0</td></tr><tr><td>&quot;50%&quot;</td><td>null</td><td>12.251423</td><td>12.251423</td><td>0.070494</td><td>-0.382041</td><td>0.77015</td><td>20.24</td><td>315.337</td><td>292.209</td><td>315.11384</td><td>122.0</td><td>0.0</td><td>0.258378</td><td>-0.378653</td><td>0.379914</td><td>0.258183</td><td>1.347826</td><td>2.095238</td><td>2.736842</td><td>16.491036</td><td>10.034326</td><td>2.309412</td><td>-2.264857</td><td>2.23876</td><td>-2.438983</td><td>5.925277</td><td>-0.126312</td><td>2.936106</td><td>1.771881</td><td>532.119921</td><td>16.11252</td><td>13.062584</td><td>13.263346</td><td>10.596555</td><td>7.626754</td><td>7.879828</td><td>&hellip;</td><td>0.0</td><td>0.0</td><td>0.0</td><td>0.0</td><td>0.0</td><td>0.0</td><td>0.0</td><td>0.0</td><td>0.0</td><td>0.0</td><td>0.0</td><td>0.0</td><td>0.0</td><td>0.0</td><td>0.0</td><td>0.0</td><td>0.0</td><td>0.0</td><td>0.0</td><td>0.0</td><td>0.0</td><td>0.0</td><td>0.0</td><td>0.0</td><td>0.0</td><td>0.0</td><td>0.0</td><td>0.0</td><td>0.0</td><td>0.0</td><td>0.0</td><td>0.0</td><td>0.0</td><td>0.0</td><td>0.0</td><td>0.0</td><td>0.0</td></tr><tr><td>&quot;75%&quot;</td><td>null</td><td>12.569157</td><td>12.569157</td><td>0.141474</td><td>-0.101398</td><td>0.843374</td><td>24.6</td><td>333.432</td><td>310.204</td><td>333.18009</td><td>128.0</td><td>0.0</td><td>0.311488</td><td>-0.352984</td><td>0.453503</td><td>0.311433</td><td>1.434783</td><td>2.217391</td><td>2.88</td><td>19.41312</td><td>10.134752</td><td>2.388492</td><td>-2.184614</td><td>2.326868</td><td>-2.366843</td><td>6.305607</td><td>0.045411</td><td>3.106184</td><td>2.020889</td><td>626.21843</td><td>17.035169</td><td>14.008077</td><td>14.151047</td><td>11.300279</td><td>8.298187</td><td>8.531309</td><td>&hellip;</td><td>0.0</td><td>0.0</td><td>0.0</td><td>0.0</td><td>0.0</td><td>0.0</td><td>0.0</td><td>0.0</td><td>0.0</td><td>0.0</td><td>0.0</td><td>0.0</td><td>0.0</td><td>0.0</td><td>0.0</td><td>0.0</td><td>0.0</td><td>0.0</td><td>0.0</td><td>0.0</td><td>0.0</td><td>0.0</td><td>0.0</td><td>0.0</td><td>0.0</td><td>0.0</td><td>0.0</td><td>0.0</td><td>0.0</td><td>0.0</td><td>0.0</td><td>0.0</td><td>0.0</td><td>0.0</td><td>0.0</td><td>0.0</td><td>0.0</td></tr><tr><td>&quot;max&quot;</td><td>&quot;c1sc([C@H]2CCCO2)nc1-c1nnc(C2C…</td><td>16.634553</td><td>16.634553</td><td>2.071138</td><td>1.147176</td><td>0.948415</td><td>65.272727</td><td>349.909</td><td>342.205</td><td>349.309313</td><td>144.0</td><td>1.0</td><td>0.585812</td><td>-0.176825</td><td>0.710601</td><td>0.507822</td><td>1.9</td><td>2.705882</td><td>3.5</td><td>126.912704</td><td>10.961589</td><td>2.95781</td><td>-1.801259</td><td>2.924658</td><td>-1.715958</td><td>14.112162</td><td>1.433022</td><td>3.596278</td><td>5.655769</td><td>1300.898565</td><td>19.361443</td><td>17.348752</td><td>17.348752</td><td>12.898979</td><td>11.034258</td><td>12.960025</td><td>&hellip;</td><td>4.0</td><td>0.0</td><td>0.0</td><td>3.0</td><td>3.0</td><td>1.0</td><td>2.0</td><td>5.0</td><td>3.0</td><td>3.0</td><td>3.0</td><td>2.0</td><td>2.0</td><td>1.0</td><td>2.0</td><td>2.0</td><td>4.0</td><td>3.0</td><td>3.0</td><td>2.0</td><td>2.0</td><td>4.0</td><td>4.0</td><td>2.0</td><td>0.0</td><td>3.0</td><td>1.0</td><td>3.0</td><td>2.0</td><td>2.0</td><td>2.0</td><td>2.0</td><td>2.0</td><td>0.0</td><td>2.0</td><td>8.0</td><td>3.0</td></tr></tbody></table></div>"
      ],
      "text/plain": [
       "shape: (9, 219)\n",
       "┌───────────┬───────────┬───────────┬───────────┬───┬───────────┬───────────┬───────────┬──────────┐\n",
       "│ statistic ┆ smiles    ┆ MaxAbsESt ┆ MaxEState ┆ … ┆ fr_thiocy ┆ fr_thioph ┆ fr_unbrch ┆ fr_urea  │\n",
       "│ ---       ┆ ---       ┆ ateIndex  ┆ Index     ┆   ┆ an        ┆ ene       ┆ _alkane   ┆ ---      │\n",
       "│ str       ┆ str       ┆ ---       ┆ ---       ┆   ┆ ---       ┆ ---       ┆ ---       ┆ f64      │\n",
       "│           ┆           ┆ f64       ┆ f64       ┆   ┆ f64       ┆ f64       ┆ f64       ┆          │\n",
       "╞═══════════╪═══════════╪═══════════╪═══════════╪═══╪═══════════╪═══════════╪═══════════╪══════════╡\n",
       "│ count     ┆ 250000    ┆ 250000.0  ┆ 250000.0  ┆ … ┆ 250000.0  ┆ 250000.0  ┆ 250000.0  ┆ 250000.0 │\n",
       "│ null_coun ┆ 0         ┆ 0.0       ┆ 0.0       ┆ … ┆ 0.0       ┆ 0.0       ┆ 0.0       ┆ 0.0      │\n",
       "│ t         ┆           ┆           ┆           ┆   ┆           ┆           ┆           ┆          │\n",
       "│ mean      ┆ null      ┆ 12.019824 ┆ 12.019824 ┆ … ┆ 0.0       ┆ 0.027276  ┆ 0.038064  ┆ 0.103104 │\n",
       "│ std       ┆ null      ┆ 1.485571  ┆ 1.485571  ┆ … ┆ 0.0       ┆ 0.164134  ┆ 0.268714  ┆ 0.307756 │\n",
       "│ min       ┆ Bc1cnc(NC ┆ 2.357438  ┆ 2.357438  ┆ … ┆ 0.0       ┆ 0.0       ┆ 0.0       ┆ 0.0      │\n",
       "│           ┆ C2(O)CCOC ┆           ┆           ┆   ┆           ┆           ┆           ┆          │\n",
       "│           ┆ C2)c(C(=O ┆           ┆           ┆   ┆           ┆           ┆           ┆          │\n",
       "│           ┆ )OC…      ┆           ┆           ┆   ┆           ┆           ┆           ┆          │\n",
       "│ 25%       ┆ null      ┆ 11.933826 ┆ 11.933826 ┆ … ┆ 0.0       ┆ 0.0       ┆ 0.0       ┆ 0.0      │\n",
       "│ 50%       ┆ null      ┆ 12.251423 ┆ 12.251423 ┆ … ┆ 0.0       ┆ 0.0       ┆ 0.0       ┆ 0.0      │\n",
       "│ 75%       ┆ null      ┆ 12.569157 ┆ 12.569157 ┆ … ┆ 0.0       ┆ 0.0       ┆ 0.0       ┆ 0.0      │\n",
       "│ max       ┆ c1sc([C@H ┆ 16.634553 ┆ 16.634553 ┆ … ┆ 0.0       ┆ 2.0       ┆ 8.0       ┆ 3.0      │\n",
       "│           ┆ ]2CCCO2)n ┆           ┆           ┆   ┆           ┆           ┆           ┆          │\n",
       "│           ┆ c1-c1nnc( ┆           ┆           ┆   ┆           ┆           ┆           ┆          │\n",
       "│           ┆ C2C…      ┆           ┆           ┆   ┆           ┆           ┆           ┆          │\n",
       "└───────────┴───────────┴───────────┴───────────┴───┴───────────┴───────────┴───────────┴──────────┘"
      ]
     },
     "execution_count": 17,
     "metadata": {},
     "output_type": "execute_result"
    }
   ],
   "source": [
    "zinc.describe()"
   ]
  },
  {
   "cell_type": "code",
   "execution_count": 39,
   "metadata": {},
   "outputs": [],
   "source": [
    "import os\n",
    "import polars as pl\n",
    "import matplotlib.pyplot as plt\n",
    "import seaborn as sns\n",
    "import numpy as np\n",
    "from tqdm import tqdm\n",
    "import warnings\n",
    "warnings.filterwarnings('ignore')\n",
    "\n",
    "drop_cols = []\n",
    "continuous_cols = []\n",
    "categorical_cols = []\n",
    "binary_cols = []\n",
    "\n",
    "def is_regression_column(series: pl.Series) -> bool:\n",
    "    # 열에 소수점 이하가 있는지 판단\n",
    "    if series.dtype not in [pl.Float32, pl.Float64]:\n",
    "        return False\n",
    "    return (series - series.cast(pl.Int64)).abs().sum() > 0\n",
    "\n",
    "def plot_column_distribution(df: pl.DataFrame, save_dir: str = 'data/zinc/plots'):\n",
    "    os.makedirs(save_dir, exist_ok=True)\n",
    "    for col in tqdm(df.columns[1:]):\n",
    "        series = df[col]\n",
    "        values = series.to_numpy()\n",
    "        if df[col].n_unique() == 1:\n",
    "            drop_cols.append(col)\n",
    "            continue\n",
    "        plt.figure(figsize=(6, 4))\n",
    "        \n",
    "        tp = ''\n",
    "        \n",
    "        if is_regression_column(series):\n",
    "            sns.histplot(values, bins=30, kde=True, color=\"steelblue\")\n",
    "            plt.title(f\"[Continuous] Histogram for '{col}'\")\n",
    "            continuous_cols.append(col)\n",
    "            tp = 'Continuous'\n",
    "        else:\n",
    "            unique_values = np.unique(values)\n",
    "            if len(unique_values) == 2:\n",
    "                sns.histplot(values, bins=30, kde=False, color=\"lightcoral\")\n",
    "                plt.title(f\"[Binary/Other] Histogram for '{col}'\")\n",
    "                binary_cols.append(col)\n",
    "                tp = 'Binary'\n",
    "            else:\n",
    "                sns.countplot(x=values, palette=\"Set2\")\n",
    "                plt.title(f\"[Categorical] Countplot for '{col}'\")\n",
    "                categorical_cols.append(col)\n",
    "                tp = 'Categorical'\n",
    "\n",
    "        plt.xlabel(col)\n",
    "        plt.ylabel(\"Count\")\n",
    "        plt.tight_layout()\n",
    "\n",
    "        # 저장 경로 구성\n",
    "        filename = f\"{col.replace(' ', '_')}.png\"\n",
    "        os.makedirs(save_dir + '/' + tp + '/', exist_ok=True)\n",
    "        save_path = os.path.join(save_dir + '/' + tp + '/', filename)\n",
    "        plt.savefig(save_path)\n",
    "        plt.close()\n",
    "        \n",
    "    # columns\n",
    "    print(f'Continuous ({len(continuous_cols)}):', continuous_cols)\n",
    "    print(f'Categorical ({len(categorical_cols)}):', categorical_cols)\n",
    "    print(f'Binary ({len(binary_cols)}):', binary_cols)\n",
    "    print(f'Drop ({len(drop_cols)}):', drop_cols)\n",
    "    return continuous_cols, categorical_cols, binary_cols, drop_cols"
   ]
  },
  {
   "cell_type": "code",
   "execution_count": 40,
   "metadata": {},
   "outputs": [
    {
     "name": "stderr",
     "output_type": "stream",
     "text": [
      "100%|██████████| 217/217 [02:31<00:00,  1.43it/s]"
     ]
    },
    {
     "name": "stdout",
     "output_type": "stream",
     "text": [
      "Continuous ({len(continuous_cols)}): ['MaxAbsEStateIndex', 'MaxEStateIndex', 'MinAbsEStateIndex', 'MinEStateIndex', 'qed', 'SPS', 'MolWt', 'HeavyAtomMolWt', 'ExactMolWt', 'MaxPartialCharge', 'MinPartialCharge', 'MaxAbsPartialCharge', 'MinAbsPartialCharge', 'FpDensityMorgan1', 'FpDensityMorgan2', 'FpDensityMorgan3', 'BCUT2D_MWHI', 'BCUT2D_MWLOW', 'BCUT2D_CHGHI', 'BCUT2D_CHGLO', 'BCUT2D_LOGPHI', 'BCUT2D_LOGPLOW', 'BCUT2D_MRHI', 'BCUT2D_MRLOW', 'AvgIpc', 'BalabanJ', 'BertzCT', 'Chi0', 'Chi0n', 'Chi0v', 'Chi1', 'Chi1n', 'Chi1v', 'Chi2n', 'Chi2v', 'Chi3n', 'Chi3v', 'Chi4n', 'Chi4v', 'HallKierAlpha', 'Ipc', 'Kappa1', 'Kappa2', 'Kappa3', 'LabuteASA', 'PEOE_VSA1', 'PEOE_VSA10', 'PEOE_VSA11', 'PEOE_VSA12', 'PEOE_VSA13', 'PEOE_VSA14', 'PEOE_VSA2', 'PEOE_VSA3', 'PEOE_VSA4', 'PEOE_VSA5', 'PEOE_VSA6', 'PEOE_VSA7', 'PEOE_VSA8', 'PEOE_VSA9', 'SMR_VSA1', 'SMR_VSA10', 'SMR_VSA2', 'SMR_VSA3', 'SMR_VSA4', 'SMR_VSA5', 'SMR_VSA6', 'SMR_VSA7', 'SMR_VSA9', 'SlogP_VSA1', 'SlogP_VSA10', 'SlogP_VSA11', 'SlogP_VSA12', 'SlogP_VSA2', 'SlogP_VSA3', 'SlogP_VSA4', 'SlogP_VSA5', 'SlogP_VSA6', 'SlogP_VSA7', 'SlogP_VSA8', 'TPSA', 'EState_VSA1', 'EState_VSA10', 'EState_VSA11', 'EState_VSA2', 'EState_VSA3', 'EState_VSA4', 'EState_VSA5', 'EState_VSA6', 'EState_VSA7', 'EState_VSA8', 'EState_VSA9', 'VSA_EState1', 'VSA_EState10', 'VSA_EState2', 'VSA_EState3', 'VSA_EState4', 'VSA_EState5', 'VSA_EState6', 'VSA_EState7', 'VSA_EState8', 'VSA_EState9', 'FractionCSP3', 'Phi', 'MolLogP', 'MolMR']\n",
      "Categorical ({len(categorical_cols)}): ['NumValenceElectrons', 'HeavyAtomCount', 'NHOHCount', 'NOCount', 'NumAliphaticCarbocycles', 'NumAliphaticHeterocycles', 'NumAliphaticRings', 'NumAmideBonds', 'NumAromaticCarbocycles', 'NumAromaticHeterocycles', 'NumAromaticRings', 'NumAtomStereoCenters', 'NumBridgeheadAtoms', 'NumHAcceptors', 'NumHDonors', 'NumHeteroatoms', 'NumHeterocycles', 'NumRotatableBonds', 'NumSaturatedCarbocycles', 'NumSaturatedHeterocycles', 'NumSaturatedRings', 'NumSpiroAtoms', 'NumUnspecifiedAtomStereoCenters', 'RingCount', 'fr_Al_COO', 'fr_Al_OH', 'fr_Al_OH_noTert', 'fr_ArN', 'fr_Ar_COO', 'fr_Ar_N', 'fr_Ar_NH', 'fr_Ar_OH', 'fr_COO', 'fr_COO2', 'fr_C_O', 'fr_C_O_noCOO', 'fr_C_S', 'fr_HOCCN', 'fr_Imine', 'fr_NH0', 'fr_NH1', 'fr_NH2', 'fr_N_O', 'fr_Ndealkylation1', 'fr_Ndealkylation2', 'fr_Nhpyrrole', 'fr_alkyl_carbamate', 'fr_alkyl_halide', 'fr_allylic_oxid', 'fr_amide', 'fr_amidine', 'fr_aniline', 'fr_aryl_methyl', 'fr_barbitur', 'fr_benzene', 'fr_bicyclic', 'fr_epoxide', 'fr_ester', 'fr_ether', 'fr_furan', 'fr_halogen', 'fr_hdrzine', 'fr_hdrzone', 'fr_imidazole', 'fr_imide', 'fr_ketone', 'fr_ketone_Topliss', 'fr_lactone', 'fr_methoxy', 'fr_morpholine', 'fr_nitrile', 'fr_nitro', 'fr_nitro_arom', 'fr_nitro_arom_nonortho', 'fr_oxazole', 'fr_oxime', 'fr_para_hydroxylation', 'fr_phenol', 'fr_phenol_noOrthoHbond', 'fr_phos_acid', 'fr_phos_ester', 'fr_piperdine', 'fr_piperzine', 'fr_priamide', 'fr_pyridine', 'fr_sulfide', 'fr_sulfonamd', 'fr_sulfone', 'fr_term_acetylene', 'fr_tetrazole', 'fr_thiazole', 'fr_thiophene', 'fr_unbrch_alkane', 'fr_urea']\n",
      "Binary ({len(binary_cols)}): ['NumRadicalElectrons', 'fr_SH', 'fr_aldehyde', 'fr_azide', 'fr_azo', 'fr_dihydropyridine', 'fr_guanido', 'fr_lactam', 'fr_nitroso', 'fr_quatN']\n",
      "Drop ({len(drop_cols)}): ['SMR_VSA8', 'SlogP_VSA9', 'fr_benzodiazepine', 'fr_diazo', 'fr_isocyan', 'fr_isothiocyan', 'fr_prisulfonamd', 'fr_thiocyan']\n"
     ]
    },
    {
     "name": "stderr",
     "output_type": "stream",
     "text": [
      "\n"
     ]
    }
   ],
   "source": [
    "continuous_cols, categorical_cols, binary_cols, drop_cols = plot_column_distribution(zinc)"
   ]
  },
  {
   "cell_type": "code",
   "execution_count": 41,
   "metadata": {},
   "outputs": [
    {
     "data": {
      "text/plain": [
       "(105, 94, 10, 8)"
      ]
     },
     "execution_count": 41,
     "metadata": {},
     "output_type": "execute_result"
    }
   ],
   "source": [
    "len(continuous_cols), len(categorical_cols), len(binary_cols), len(drop_cols)"
   ]
  },
  {
   "cell_type": "code",
   "execution_count": 44,
   "metadata": {},
   "outputs": [
    {
     "data": {
      "text/plain": [
       "24"
      ]
     },
     "execution_count": 44,
     "metadata": {},
     "output_type": "execute_result"
    }
   ],
   "source": [
    "regression_float = continuous_cols\n",
    "regression_int = [c for c in categorical_cols if 'Num' in c or 'Count' in c]\n",
    "classification_col = [c for c in categorical_cols if c not in regression_int]\n",
    "len(regression_int)"
   ]
  },
  {
   "cell_type": "code",
   "execution_count": 66,
   "metadata": {},
   "outputs": [
    {
     "data": {
      "text/plain": [
       "(10,\n",
       " ['fr_Ar_N',\n",
       "  'fr_C_O',\n",
       "  'fr_C_O_noCOO',\n",
       "  'fr_NH0',\n",
       "  'fr_NH1',\n",
       "  'fr_Ndealkylation2',\n",
       "  'fr_amide',\n",
       "  'fr_aryl_methyl',\n",
       "  'fr_benzene',\n",
       "  'fr_ether'])"
      ]
     },
     "execution_count": 66,
     "metadata": {},
     "output_type": "execute_result"
    }
   ],
   "source": [
    "classification_col_filtered = []\n",
    "for c in classification_col:\n",
    "    cz = zinc[c]\n",
    "    zeros =  cz.to_list().count(0)\n",
    "    if zeros / len(cz) > 0.7:\n",
    "        continue\n",
    "    else:\n",
    "        classification_col_filtered.append(c)\n",
    "len(classification_col_filtered), classification_col_filtered"
   ]
  },
  {
   "cell_type": "code",
   "execution_count": 67,
   "metadata": {},
   "outputs": [
    {
     "data": {
      "text/plain": [
       "(105, 24, 10)"
      ]
     },
     "execution_count": 67,
     "metadata": {},
     "output_type": "execute_result"
    }
   ],
   "source": [
    "len(regression_float), len(regression_int), len(classification_col_filtered)"
   ]
  },
  {
   "cell_type": "code",
   "execution_count": 69,
   "metadata": {},
   "outputs": [],
   "source": [
    "targets = {'Regression_float': regression_float, 'Regression_int': regression_int, 'Classification': classification_col_filtered}"
   ]
  },
  {
   "cell_type": "code",
   "execution_count": 70,
   "metadata": {},
   "outputs": [],
   "source": [
    "import pickle\n",
    "with open('data/zinc/target_cols.pkl', 'wb') as f:\n",
    "    pickle.dump(targets, f)"
   ]
  },
  {
   "cell_type": "code",
   "execution_count": 71,
   "metadata": {},
   "outputs": [
    {
     "data": {
      "text/plain": [
       "{'Regression_float': ['MaxAbsEStateIndex',\n",
       "  'MaxEStateIndex',\n",
       "  'MinAbsEStateIndex',\n",
       "  'MinEStateIndex',\n",
       "  'qed',\n",
       "  'SPS',\n",
       "  'MolWt',\n",
       "  'HeavyAtomMolWt',\n",
       "  'ExactMolWt',\n",
       "  'MaxPartialCharge',\n",
       "  'MinPartialCharge',\n",
       "  'MaxAbsPartialCharge',\n",
       "  'MinAbsPartialCharge',\n",
       "  'FpDensityMorgan1',\n",
       "  'FpDensityMorgan2',\n",
       "  'FpDensityMorgan3',\n",
       "  'BCUT2D_MWHI',\n",
       "  'BCUT2D_MWLOW',\n",
       "  'BCUT2D_CHGHI',\n",
       "  'BCUT2D_CHGLO',\n",
       "  'BCUT2D_LOGPHI',\n",
       "  'BCUT2D_LOGPLOW',\n",
       "  'BCUT2D_MRHI',\n",
       "  'BCUT2D_MRLOW',\n",
       "  'AvgIpc',\n",
       "  'BalabanJ',\n",
       "  'BertzCT',\n",
       "  'Chi0',\n",
       "  'Chi0n',\n",
       "  'Chi0v',\n",
       "  'Chi1',\n",
       "  'Chi1n',\n",
       "  'Chi1v',\n",
       "  'Chi2n',\n",
       "  'Chi2v',\n",
       "  'Chi3n',\n",
       "  'Chi3v',\n",
       "  'Chi4n',\n",
       "  'Chi4v',\n",
       "  'HallKierAlpha',\n",
       "  'Ipc',\n",
       "  'Kappa1',\n",
       "  'Kappa2',\n",
       "  'Kappa3',\n",
       "  'LabuteASA',\n",
       "  'PEOE_VSA1',\n",
       "  'PEOE_VSA10',\n",
       "  'PEOE_VSA11',\n",
       "  'PEOE_VSA12',\n",
       "  'PEOE_VSA13',\n",
       "  'PEOE_VSA14',\n",
       "  'PEOE_VSA2',\n",
       "  'PEOE_VSA3',\n",
       "  'PEOE_VSA4',\n",
       "  'PEOE_VSA5',\n",
       "  'PEOE_VSA6',\n",
       "  'PEOE_VSA7',\n",
       "  'PEOE_VSA8',\n",
       "  'PEOE_VSA9',\n",
       "  'SMR_VSA1',\n",
       "  'SMR_VSA10',\n",
       "  'SMR_VSA2',\n",
       "  'SMR_VSA3',\n",
       "  'SMR_VSA4',\n",
       "  'SMR_VSA5',\n",
       "  'SMR_VSA6',\n",
       "  'SMR_VSA7',\n",
       "  'SMR_VSA9',\n",
       "  'SlogP_VSA1',\n",
       "  'SlogP_VSA10',\n",
       "  'SlogP_VSA11',\n",
       "  'SlogP_VSA12',\n",
       "  'SlogP_VSA2',\n",
       "  'SlogP_VSA3',\n",
       "  'SlogP_VSA4',\n",
       "  'SlogP_VSA5',\n",
       "  'SlogP_VSA6',\n",
       "  'SlogP_VSA7',\n",
       "  'SlogP_VSA8',\n",
       "  'TPSA',\n",
       "  'EState_VSA1',\n",
       "  'EState_VSA10',\n",
       "  'EState_VSA11',\n",
       "  'EState_VSA2',\n",
       "  'EState_VSA3',\n",
       "  'EState_VSA4',\n",
       "  'EState_VSA5',\n",
       "  'EState_VSA6',\n",
       "  'EState_VSA7',\n",
       "  'EState_VSA8',\n",
       "  'EState_VSA9',\n",
       "  'VSA_EState1',\n",
       "  'VSA_EState10',\n",
       "  'VSA_EState2',\n",
       "  'VSA_EState3',\n",
       "  'VSA_EState4',\n",
       "  'VSA_EState5',\n",
       "  'VSA_EState6',\n",
       "  'VSA_EState7',\n",
       "  'VSA_EState8',\n",
       "  'VSA_EState9',\n",
       "  'FractionCSP3',\n",
       "  'Phi',\n",
       "  'MolLogP',\n",
       "  'MolMR'],\n",
       " 'Regression_int': ['NumValenceElectrons',\n",
       "  'HeavyAtomCount',\n",
       "  'NHOHCount',\n",
       "  'NOCount',\n",
       "  'NumAliphaticCarbocycles',\n",
       "  'NumAliphaticHeterocycles',\n",
       "  'NumAliphaticRings',\n",
       "  'NumAmideBonds',\n",
       "  'NumAromaticCarbocycles',\n",
       "  'NumAromaticHeterocycles',\n",
       "  'NumAromaticRings',\n",
       "  'NumAtomStereoCenters',\n",
       "  'NumBridgeheadAtoms',\n",
       "  'NumHAcceptors',\n",
       "  'NumHDonors',\n",
       "  'NumHeteroatoms',\n",
       "  'NumHeterocycles',\n",
       "  'NumRotatableBonds',\n",
       "  'NumSaturatedCarbocycles',\n",
       "  'NumSaturatedHeterocycles',\n",
       "  'NumSaturatedRings',\n",
       "  'NumSpiroAtoms',\n",
       "  'NumUnspecifiedAtomStereoCenters',\n",
       "  'RingCount'],\n",
       " 'Classification': ['fr_Ar_N',\n",
       "  'fr_C_O',\n",
       "  'fr_C_O_noCOO',\n",
       "  'fr_NH0',\n",
       "  'fr_NH1',\n",
       "  'fr_Ndealkylation2',\n",
       "  'fr_amide',\n",
       "  'fr_aryl_methyl',\n",
       "  'fr_benzene',\n",
       "  'fr_ether']}"
      ]
     },
     "execution_count": 71,
     "metadata": {},
     "output_type": "execute_result"
    }
   ],
   "source": [
    "import pickle\n",
    "with open('data/zinc/target_cols.pkl', 'rb') as f:\n",
    "    target_cols = pickle.load(f)\n",
    "\n",
    "target_cols"
   ]
  },
  {
   "cell_type": "code",
   "execution_count": null,
   "metadata": {},
   "outputs": [],
   "source": []
  }
 ],
 "metadata": {
  "kernelspec": {
   "display_name": "grapose",
   "language": "python",
   "name": "python3"
  },
  "language_info": {
   "codemirror_mode": {
    "name": "ipython",
    "version": 3
   },
   "file_extension": ".py",
   "mimetype": "text/x-python",
   "name": "python",
   "nbconvert_exporter": "python",
   "pygments_lexer": "ipython3",
   "version": "3.12.6"
  }
 },
 "nbformat": 4,
 "nbformat_minor": 2
}
