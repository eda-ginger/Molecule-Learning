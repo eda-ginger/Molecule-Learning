{
 "cells": [
  {
   "cell_type": "code",
   "execution_count": 14,
   "id": "9cae5cb7",
   "metadata": {},
   "outputs": [],
   "source": [
    "import pickle\n",
    "import numpy as np\n",
    "import pandas as pd\n",
    "from pathlib import Path"
   ]
  },
  {
   "cell_type": "code",
   "execution_count": null,
   "id": "e09b9d9d",
   "metadata": {},
   "outputs": [],
   "source": [
    "import os\n",
    "import warnings\n",
    "warnings.filterwarnings('ignore')  # Suppress all other warnings\n",
    "os.environ['TRANSFORMERS_VERBOSITY'] = 'error'  # Suppress transformer warnings"
   ]
  },
  {
   "cell_type": "code",
   "execution_count": null,
   "id": "27546053",
   "metadata": {},
   "outputs": [],
   "source": [
    "def make_prompt(task, role_description, prediction_instruction, output_instruction, use_descriptors=False):\n",
    "    descriptor_line = (\n",
    "        \"The molecule is described by a SMILES string, optionally followed by molecular descriptors (e.g., QED, SPS, MolWt).\\n\"\n",
    "        \"Use all available information.\\n\"\n",
    "        if use_descriptors else \"\"\n",
    "    )\n",
    "    return (\n",
    "        f\"You are a {role_description}.\\n\"\n",
    "        f\"{prediction_instruction}\\n\"\n",
    "        f\"{descriptor_line}\"\n",
    "        f\"{output_instruction}\\n\"\n",
    "        \"Do not explain. Do not include any other text.\"\n",
    "    )\n",
    "\n",
    "\n",
    "def get_roles(use_descriptors=False):\n",
    "    return {\n",
    "        'bace': make_prompt(\n",
    "            task='bace',\n",
    "            role_description=\"medicinal chemist predicting BACE-1 inhibitory activity\",\n",
    "            prediction_instruction=\"Your task is to predict whether the given small molecule is an active inhibitor.\",\n",
    "            output_instruction=\"Return only a single integer: 1 for active, 0 for inactive.\",\n",
    "            use_descriptors=use_descriptors\n",
    "        ),\n",
    "        'bbbp': make_prompt(\n",
    "            task='bbbp',\n",
    "            role_description=\"pharmacologist predicting blood-brain barrier penetration ability\",\n",
    "            prediction_instruction=\"Your task is to predict whether the given small molecule can penetrate the blood-brain barrier.\",\n",
    "            output_instruction=\"Return only a single integer: 1 for penetration, 0 for no penetration.\",\n",
    "            use_descriptors=use_descriptors\n",
    "        ),\n",
    "        'esol': make_prompt(\n",
    "            task='esol',\n",
    "            role_description=\"physical chemist modeling solvation thermodynamics\",\n",
    "            prediction_instruction=\"Your task is to predict the hydration free energy (kcal/mol) of the given small molecule in water.\",\n",
    "            output_instruction=\"Return only a single float value.\",\n",
    "            use_descriptors=use_descriptors\n",
    "        ),\n",
    "        'lipo': make_prompt(\n",
    "            task='lipo',\n",
    "            role_description=\"physical chemist modeling lipophilicity\",\n",
    "            prediction_instruction=\"Your task is to predict the octanol/water distribution coefficient (logD at pH 7.4) of the given small molecule.\",\n",
    "            output_instruction=\"Return only a single float value.\",\n",
    "            use_descriptors=use_descriptors\n",
    "        ),\n",
    "    }\n",
    "\n",
    "# 사용 예시\n",
    "roles = {'desc_w': get_roles(use_descriptors=True), 'desc_wo': get_roles(use_descriptors=False)}\n",
    "roles"
   ]
  },
  {
   "cell_type": "code",
   "execution_count": null,
   "id": "da461d67",
   "metadata": {},
   "outputs": [
    {
     "data": {
      "text/plain": [
       "{'bace': 'You are a medicinal chemist predicting BACE-1 inhibitory activity.\\nYour task is to predict whether the given small molecule is an active inhibitor.\\nReturn only a single integer: 1 for active, 0 for inactive.\\nDo not explain. Do not include any other text.',\n",
       " 'bbbp': 'You are a pharmacologist predicting blood-brain barrier penetration ability.\\nYour task is to predict whether the given small molecule can penetrate the blood-brain barrier.\\nReturn only a single integer: 1 for penetration, 0 for no penetration.\\nDo not explain. Do not include any other text.',\n",
       " 'esol': 'You are a physical chemist modeling solvation thermodynamics.\\nYour task is to predict the hydration free energy (kcal/mol) of the given small molecule in water.\\nReturn only a single float value.\\nDo not explain. Do not include any other text.',\n",
       " 'lipo': 'You are a physical chemist modeling lipophilicity.\\nYour task is to predict the octanol/water distribution coefficient (logD at pH 7.4) of the given small molecule.\\nReturn only a single float value.\\nDo not explain. Do not include any other text.'}"
      ]
     },
     "execution_count": 19,
     "metadata": {},
     "output_type": "execute_result"
    }
   ],
   "source": []
  },
  {
   "cell_type": "code",
   "execution_count": null,
   "id": "23a898e0",
   "metadata": {},
   "outputs": [],
   "source": [
    "from transformers import AutoTokenizer, AutoModelForCausalLM\n",
    "import torch\n",
    "\n",
    "model_id = \"meta-llama/Meta-Llama-3-8B-Instruct\"\n",
    "\n",
    "tokenizer = AutoTokenizer.from_pretrained(model_id)\n",
    "model = AutoModelForCausalLM.from_pretrained(\n",
    "    model_id,\n",
    "    torch_dtype=torch.bfloat16,\n",
    "    device_map=\"auto\",\n",
    "    output_hidden_states=True,\n",
    ")\n",
    "\n",
    "messages = [\n",
    "    {\"role\": \"system\", \"content\": role_ip},\n",
    "    {\"role\": \"user\", \"content\": user_ip},\n",
    "]\n",
    "\n",
    "input_ids = tokenizer.apply_chat_template(\n",
    "    messages,\n",
    "    add_generation_prompt=True,\n",
    "    return_tensors=\"pt\"\n",
    ").to(model.device)\n",
    "\n",
    "terminators = [\n",
    "    tokenizer.eos_token_id,\n",
    "    tokenizer.convert_tokens_to_ids(\"<|eot_id|>\")\n",
    "]\n",
    "\n",
    "with torch.inference_mode():\n",
    "    generation = model.generate(\n",
    "        input_ids,\n",
    "        max_new_tokens=256,\n",
    "        eos_token_id=terminators,\n",
    "        do_sample=False,\n",
    "    )\n",
    "    response = generation[0][input_ids.shape[-1]:]\n",
    "    \n",
    "decoded = tokenizer.decode(response, skip_special_tokens=True)\n",
    "print(decoded)\n",
    "\n",
    "with torch.no_grad():\n",
    "    outputs = model(input_ids)\n",
    "    last_hidden_state = outputs['hidden_states'][-1]\n",
    "print(last_hidden_state)"
   ]
  },
  {
   "cell_type": "code",
   "execution_count": null,
   "id": "02cb5ba6",
   "metadata": {},
   "outputs": [],
   "source": [
    "# pip install accelerate\n",
    "from transformers import AutoProcessor, AutoModelForImageTextToText\n",
    "import torch\n",
    "\n",
    "model_id = \"google/medgemma-4b-it\"\n",
    "\n",
    "model = AutoModelForImageTextToText.from_pretrained(\n",
    "    model_id,\n",
    "    torch_dtype=torch.bfloat16,\n",
    "    device_map=\"auto\",\n",
    "    output_hidden_states=True,\n",
    ")\n",
    "processor = AutoProcessor.from_pretrained(model_id)\n",
    "\n",
    "messages = [\n",
    "    {\"role\": \"system\", \"content\": [{\"type\": \"text\", \"text\": role_ip}]},\n",
    "    {\"role\": \"user\", \"content\": [{\"type\": \"text\", \"text\": user_ip}]}\n",
    "]\n",
    "\n",
    "inputs = processor.apply_chat_template(\n",
    "    messages, add_generation_prompt=True, tokenize=True,\n",
    "    return_dict=True, return_tensors=\"pt\"\n",
    ").to(model.device, dtype=torch.bfloat16)\n",
    "\n",
    "input_len = inputs[\"input_ids\"].shape[-1]\n",
    "\n",
    "with torch.inference_mode():\n",
    "    generation = model.generate(**inputs, max_new_tokens=200, do_sample=False)\n",
    "    response = generation[0][input_len:]\n",
    "\n",
    "decoded = processor.decode(response, skip_special_tokens=True)\n",
    "print(decoded)\n",
    "\n",
    "with torch.no_grad():\n",
    "    outputs = model(**inputs)\n",
    "    last_hidden_state = outputs['hidden_states'][-1]\n",
    "print(last_hidden_state)"
   ]
  },
  {
   "cell_type": "code",
   "execution_count": null,
   "id": "bcdc90da",
   "metadata": {},
   "outputs": [
    {
     "name": "stdout",
     "output_type": "stream",
     "text": [
      "1513 152\n",
      "1972 198\n",
      "1121 113\n",
      "4200 420\n"
     ]
    }
   ],
   "source": [
    "dataset = ['bace', 'bbbp', 'esol', 'lipo']\n",
    "model_id = \"meta-llama/Meta-Llama-3-8B-Instruct\"\n",
    "descriptor = False\n",
    "\n",
    "for dt in dataset:\n",
    "    # if dt != 'esol':\n",
    "    #     continue\n",
    "\n",
    "    data = pd.read_csv(f'data/{dt}/desc_pre.csv')\n",
    "    \n",
    "    desc_cols = [c for c in data.columns if c not in ['smiles', 'set', 'y']] # 115\n",
    "    test = data[data['set'] == 'test']\n",
    "    print(len(data), len(test))\n",
    "\n",
    "    result = []\n",
    "    for _, row in test.iterrows():\n",
    "        smi = row['smiles']\n",
    "        y = row['y']\n",
    "\n",
    "        user_ip = [f'SMILES: {smi}']\n",
    "        if descriptor:\n",
    "            for desc in desc_cols:\n",
    "                user_ip.append(str(f'{desc}: {row[desc]}'))\n",
    "            user_ip = ' | '.join(user_ip)\n",
    "            role_ip = roles['desc_w'][dt]\n",
    "        else:\n",
    "            user_ip = user_ip[0]\n",
    "            role_ip = roles['desc_wo'][dt]\n",
    "\n",
    "        if model_id == \"meta-llama/Meta-Llama-3-8B-Instruct\":\n",
    "            messages = [\n",
    "                {\"role\": \"system\", \"content\": role_ip},\n",
    "                {\"role\": \"user\", \"content\": user_ip},\n",
    "            ]\n",
    "        elif model_id == \"google/medgemma-4b-it\":\n",
    "            messages = [\n",
    "                {\"role\": \"system\", \"content\": [{\"type\": \"text\", \"text\": role_ip}]},\n",
    "                {\"role\": \"user\", \"content\": [{\"type\": \"text\", \"text\": user_ip}]}\n",
    "            ]\n",
    "\n",
    "        sample_result = {'smiles': smi, 'y': y, 'input': user_ip, 'system': role_ip, \n",
    "                         'llm_name': 0, 'chat': 0, 'last_hidden_state': 0}\n",
    "        result.append(sample_result)\n",
    "\n",
    "    # save\n",
    "    with open(f'output/{dt}_output.pkl', 'wb') as f:\n",
    "        pickle.dump(result, f)\n",
    "\n",
    "    # load\n",
    "    with open(f'output/{dt}_output.pkl', 'rb') as f:\n",
    "        tmp = pickle.load(f)\n",
    "        print(tmp[0])\n",
    "    \n",
    "    break"
   ]
  },
  {
   "cell_type": "code",
   "execution_count": 8,
   "id": "a6ea7aae",
   "metadata": {},
   "outputs": [
    {
     "data": {
      "text/plain": [
       "'O1CC[C@@H](NC(=O)[C@@H](Cc2cc3cc(ccc3nc2N)-c2ccccc2C)C)CC1(C)C'"
      ]
     },
     "execution_count": 8,
     "metadata": {},
     "output_type": "execute_result"
    }
   ],
   "source": [
    "smi"
   ]
  },
  {
   "cell_type": "code",
   "execution_count": 10,
   "id": "0f84ca8a",
   "metadata": {},
   "outputs": [
    {
     "data": {
      "text/plain": [
       "'You are a medicinal chemist predicting BACE-1 inhibitory activity.\\nYour task is to predict whether the given small molecule is an active inhibitor.\\nReturn only a single integer: 1 for active, 0 for inactive.\\nDo not explain. Do not include any other text.'"
      ]
     },
     "execution_count": 10,
     "metadata": {},
     "output_type": "execute_result"
    }
   ],
   "source": [
    "bace"
   ]
  },
  {
   "cell_type": "code",
   "execution_count": null,
   "id": "defecbce",
   "metadata": {},
   "outputs": [],
   "source": []
  }
 ],
 "metadata": {
  "kernelspec": {
   "display_name": "geometric",
   "language": "python",
   "name": "python3"
  },
  "language_info": {
   "codemirror_mode": {
    "name": "ipython",
    "version": 3
   },
   "file_extension": ".py",
   "mimetype": "text/x-python",
   "name": "python",
   "nbconvert_exporter": "python",
   "pygments_lexer": "ipython3",
   "version": "3.12.2"
  }
 },
 "nbformat": 4,
 "nbformat_minor": 5
}
