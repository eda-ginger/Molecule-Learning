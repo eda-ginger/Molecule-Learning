{
 "cells": [
  {
   "cell_type": "code",
   "execution_count": 1,
   "metadata": {},
   "outputs": [
    {
     "name": "stdout",
     "output_type": "stream",
     "text": [
      "WARNING:tensorflow:From c:\\Users\\PARK\\anaconda3\\envs\\grapose\\Lib\\site-packages\\tensorflow\\python\\util\\deprecation.py:588: calling function (from tensorflow.python.eager.polymorphic_function.polymorphic_function) with experimental_relax_shapes is deprecated and will be removed in a future version.\n",
      "Instructions for updating:\n",
      "experimental_relax_shapes is deprecated, use reduce_retracing instead\n",
      "2025.03.3\n"
     ]
    }
   ],
   "source": [
    "import os\n",
    "import rdkit\n",
    "import torch\n",
    "import random\n",
    "import numpy as np\n",
    "import pandas as pd\n",
    "\n",
    "from rdkit import Chem\n",
    "from deepchem.feat.smiles_tokenizer import BasicSmilesTokenizer\n",
    "from rdkit.Chem import Draw, AllChem, Descriptors, rdDepictor, rdDistGeom, MACCSkeys, rdMolDescriptors\n",
    "\n",
    "from torch.utils.data import Dataset\n",
    "from torch_geometric import utils as pyg_utils\n",
    "from torch_geometric.data import InMemoryDataset, download_url, extract_gz, Data, DataLoader, Batch\n",
    "\n",
    "# # 작업을 위한 별도의 함수 불러오기\n",
    "# from utils.download_preprocess import CustomMoleculeNet, atom_features, EDGE_FEATURES\n",
    "\n",
    "# 시각화를 위한 라이브러리\n",
    "import matplotlib.pyplot as plt\n",
    "import seaborn as sns\n",
    "\n",
    "print(rdkit.__version__)"
   ]
  },
  {
   "cell_type": "code",
   "execution_count": 2,
   "metadata": {},
   "outputs": [],
   "source": [
    "CHARSMISET = {\"(\": 1, \".\": 2, \"0\": 3, \"2\": 4, \"4\": 5, \"6\": 6, \"8\": 7, \"@\": 8,\n",
    "                \"B\": 9, \"D\": 10, \"F\": 11, \"H\": 12, \"L\": 13, \"N\": 14, \"P\": 15, \"R\": 16,\n",
    "                \"T\": 17, \"V\": 18, \"Z\": 19, \"\\\\\": 20, \"b\": 21, \"d\": 22, \"f\": 23, \"h\": 24,\n",
    "                \"l\": 25, \"n\": 26, \"r\": 27, \"t\": 28, \"#\": 29, \"%\": 30, \")\": 31, \"+\": 32,\n",
    "                \"-\": 33, \"/\": 34, \"1\": 35, \"3\": 36, \"5\": 37, \"7\": 38, \"9\": 39, \"=\": 40,\n",
    "                \"A\": 41, \"C\": 42, \"E\": 43, \"G\": 44, \"I\": 45, \"K\": 46, \"M\": 47, \"O\": 48,\n",
    "                \"S\": 49, \"U\": 50, \"W\": 51, \"Y\": 52, \"[\": 53, \"]\": 54, \"a\": 55, \"c\": 56,\n",
    "                \"e\": 57, \"g\": 58, \"i\": 59, \"m\": 60, \"o\": 61, \"s\": 62, \"u\": 63, \"y\": 64, '~': 65} # add ~: 65 \n",
    "\n",
    "CHARISOSMILEN = 65\n",
    "\n",
    "CHARPROTSET = {\"A\": 1, \"C\": 2, \"B\": 3, \"E\": 4, \"D\": 5, \"G\": 6,\n",
    "               \"F\": 7, \"I\": 8, \"H\": 9, \"K\": 10, \"M\": 11, \"L\": 12,\n",
    "               \"O\": 13, \"N\": 14, \"Q\": 15, \"P\": 16, \"S\": 17, \"R\": 18,\n",
    "               \"U\": 19, \"T\": 20, \"W\": 21, \"V\": 22, \"Y\": 23, \"X\": 24, \"Z\": 25}\n",
    "\n",
    "CHARPROTLEN = 25\n",
    "\n",
    "\n",
    "########################################################################################################################\n",
    "########## Function\n",
    "########################################################################################################################\n",
    "\n",
    "\n",
    "def integer_label_encoding(sequence, tp, max_length=100):\n",
    "    \"\"\"\n",
    "    Integer encoding for string sequence.\n",
    "    Args:\n",
    "        sequence (str): Drug or Protein string sequence.\n",
    "        max_length: Maximum encoding length of input string.\n",
    "    \"\"\"\n",
    "    if tp == 'drug':\n",
    "        charset = CHARSMISET\n",
    "    elif tp == 'protein':\n",
    "        charset = CHARPROTSET\n",
    "\n",
    "    encoding = np.zeros(max_length)\n",
    "    for idx, letter in enumerate(sequence[:max_length]):\n",
    "        try:\n",
    "            if tp == 'protein':\n",
    "                letter = letter.upper()\n",
    "            letter = str(letter)\n",
    "            encoding[idx] = charset[letter]\n",
    "        except KeyError:\n",
    "            print(\n",
    "                f\"character {letter} does not exists in sequence category encoding, skip and treat as padding.\"\n",
    "            )\n",
    "    return Data(x=torch.from_numpy(encoding).to(torch.long).unsqueeze(dim=0))\n"
   ]
  },
  {
   "cell_type": "code",
   "execution_count": 3,
   "metadata": {},
   "outputs": [],
   "source": [
    "import torch\n",
    "import numpy as np\n",
    "from rdkit import Chem\n",
    "from rdkit import RDLogger\n",
    "from pathlib import Path\n",
    "from torch_geometric.data import Data\n",
    "from torch_geometric.utils import add_self_loops\n",
    "\n",
    "import logging\n",
    "logger = logging.getLogger(__name__)\n",
    "RDLogger.DisableLog('rdApp.*')  \n",
    "\n",
    "import warnings\n",
    "warnings.filterwarnings('ignore', category=FutureWarning)\n",
    "warnings.filterwarnings('ignore', category=UserWarning)\n",
    "\n",
    "def one_of_k_encoding(x, allowable_set):\n",
    "    if x not in allowable_set:\n",
    "        raise Exception(\"input {0} not in allowable set{1}:\".format(x, allowable_set))\n",
    "    return list(map(lambda s: x == s, allowable_set))\n",
    "\n",
    "def one_of_k_encoding_unk(x, allowable_set):\n",
    "    '''Maps inputs not in the allowable set to the last element.'''\n",
    "    if x not in allowable_set:\n",
    "        x = allowable_set[-1]\n",
    "    return list(map(lambda s: x == s, allowable_set))\n",
    "\n",
    "def atom_features_graphdta(atom):\n",
    "    result = np.array(one_of_k_encoding_unk(atom.GetSymbol(),['C', 'N', 'O', 'S', 'F', 'Si', 'P', 'Cl', 'Br', 'Mg', 'Na','Ca', 'Fe', 'As', 'Al', 'I', 'B', 'V', 'K', 'Tl', 'Yb','Sb', 'Sn', 'Ag', 'Pd', 'Co', 'Se', 'Ti', 'Zn', 'H','Li', 'Ge', 'Cu', 'Au', 'Ni', 'Cd', 'In', 'Mn', 'Zr','Cr', 'Pt', 'Hg', 'Pb', 'Unknown']) +\n",
    "                    one_of_k_encoding(atom.GetDegree(), [0, 1, 2, 3, 4, 5, 6,7,8,9,10]) +\n",
    "                    one_of_k_encoding_unk(atom.GetTotalNumHs(), [0, 1, 2, 3, 4, 5, 6,7,8,9,10]) +\n",
    "                    one_of_k_encoding_unk(atom.GetImplicitValence(), [0, 1, 2, 3, 4, 5, 6,7,8,9,10]) +\n",
    "                    [atom.GetIsAromatic()])\n",
    "    return torch.from_numpy(result).float()\n",
    "\n",
    "def atom_features(atom,\n",
    "                explicit_H=True,\n",
    "                use_chirality=False):\n",
    "\n",
    "    results = one_of_k_encoding_unk(\n",
    "        atom.GetSymbol(),\n",
    "        ['C','N','O', 'S','F','Si','P', 'Cl','Br','Mg','Na','Ca','Fe','As','Al','I','B','V','K','Tl',\n",
    "            'Yb','Sb','Sn','Ag','Pd','Co','Se','Ti','Zn','H', 'Li','Ge','Cu','Au','Ni','Cd','In',\n",
    "            'Mn','Zr','Cr','Pt','Hg','Pb','Unknown'\n",
    "        ]) + [atom.GetDegree()/10, atom.GetImplicitValence(),\n",
    "                atom.GetFormalCharge(), atom.GetNumRadicalElectrons()] + \\\n",
    "                one_of_k_encoding_unk(atom.GetHybridization(), [\n",
    "                Chem.rdchem.HybridizationType.SP, Chem.rdchem.HybridizationType.SP2,\n",
    "                Chem.rdchem.HybridizationType.SP3, Chem.rdchem.HybridizationType.\n",
    "                                    SP3D, Chem.rdchem.HybridizationType.SP3D2\n",
    "                ]) + [atom.GetIsAromatic()]\n",
    "    # In case of explicit hydrogen(QM8, QM9), avoid calling `GetTotalNumHs`\n",
    "    if explicit_H:\n",
    "        results = results + [atom.GetTotalNumHs()]\n",
    "\n",
    "    if use_chirality:\n",
    "        try:\n",
    "            results = results + one_of_k_encoding_unk(\n",
    "            atom.GetProp('_CIPCode'),\n",
    "            ['R', 'S']) + [atom.HasProp('_ChiralityPossible')]\n",
    "        except:\n",
    "            results = results + [False, False\n",
    "                            ] + [atom.HasProp('_ChiralityPossible')]\n",
    "\n",
    "    results = np.array(results).astype(np.float32)\n",
    "\n",
    "    return torch.from_numpy(results)\n",
    "\n",
    "\n",
    "def get_mol_edge_list_and_feat_mtx(mol_graph, pad=False, graphdta=True):\n",
    "    if graphdta:\n",
    "        n_features = [(atom.GetIdx(), atom_features_graphdta(atom)) for atom in mol_graph.GetAtoms()]\n",
    "    else:\n",
    "        n_features = [(atom.GetIdx(), atom_features(atom)) for atom in mol_graph.GetAtoms()]\n",
    "    n_features.sort() # to make sure that the feature matrix is aligned according to the idx of the atom\n",
    "    _, n_features = zip(*n_features)\n",
    "    n_features = torch.stack(n_features)\n",
    "\n",
    "    edge_list = torch.LongTensor([(b.GetBeginAtomIdx(), b.GetEndAtomIdx()) for b in mol_graph.GetBonds()])\n",
    "    undirected_edge_list = torch.cat([edge_list, edge_list[:, [1, 0]]], dim=0) if len(edge_list) else edge_list\n",
    "    edge_index = undirected_edge_list.T\n",
    "    if pad:\n",
    "        max_drug_nodes = 290\n",
    "        actual_node_shape = n_features.shape\n",
    "        num_virtual_nodes = max_drug_nodes - actual_node_shape[0]\n",
    "        virtual_node_feat = torch.zeros(num_virtual_nodes, actual_node_shape[1])\n",
    "        n_features = torch.cat((n_features, virtual_node_feat), dim=0)  # 290, feats\n",
    "\n",
    "        # add self-loops\n",
    "        edge_index_with_self_loop, _ = add_self_loops(edge_index, num_nodes=max_drug_nodes)\n",
    "        edge_index = edge_index_with_self_loop\n",
    "\n",
    "    return edge_index, n_features\n",
    "\n",
    "\n",
    "def drug_to_graph(smi, pad=False, graphdta=True):\n",
    "    mol = Chem.MolFromSmiles(smi)\n",
    "    if mol:\n",
    "        edge_index, n_features = get_mol_edge_list_and_feat_mtx(mol, pad, graphdta)\n",
    "        return Data(x=n_features, edge_index=edge_index)\n"
   ]
  },
  {
   "cell_type": "code",
   "execution_count": 4,
   "metadata": {},
   "outputs": [],
   "source": [
    "# ... existing code ...\n",
    "\n",
    "# Updated transform_mol function with progress logging\n",
    "from torch_geometric.data import Data\n",
    "from tqdm import tqdm\n",
    "\n",
    "def transform_mol(molecule_smiles, labels, choice):\n",
    "    mols = [Chem.MolFromSmiles(mol) for mol in molecule_smiles if mol]\n",
    "    print(f\"Processing {len(molecule_smiles)} molecules with {choice} transformation...\")\n",
    "    \n",
    "    # string tokenization\n",
    "    if choice == 'string_tokenization': # vocab dictionary, encoded smiles를 출력\n",
    "        print(\"Building vocabulary from SMILES tokens...\")\n",
    "        vocab = []\n",
    "        max_len = 0\n",
    "        tokenizer = BasicSmilesTokenizer()\n",
    "        for smi in tqdm(molecule_smiles, desc=\"Tokenizing SMILES\"):\n",
    "            tokens = tokenizer.tokenize(smi)\n",
    "            max_len = max(max_len, len(tokens))\n",
    "            vocab += tokens\n",
    "            \n",
    "        uniq_vocab = sorted(set(vocab))\n",
    "        smiles_vocab = {v: i for i, v in enumerate(uniq_vocab)}\n",
    "        smiles_vocab['Unk'] = len(smiles_vocab)\n",
    "        print(f\"Vocabulary size: {len(smiles_vocab)}\")\n",
    "        \n",
    "        print(\"Encoding SMILES sequences...\")\n",
    "        encoded_smiles = [[smiles_vocab.get(token, smiles_vocab['Unk']) for token in tokenizer.tokenize(smi)] for smi in tqdm(molecule_smiles, desc=\"Encoding SMILES\")]\n",
    "        smiles_vec = []\n",
    "        for vec, l, smi in tqdm(zip(encoded_smiles, labels, molecule_smiles), desc=\"Creating Data objects\", total=len(molecule_smiles)):\n",
    "            pad_len = max_len - len(vec)\n",
    "            vec = vec + ([0] * pad_len)\n",
    "            smiles_vec.append(Data(x=torch.tensor(vec).view(1, -1), y=torch.tensor([l], dtype=torch.float).view(1, -1), smiles=smi))\n",
    "        print(f\"Completed string tokenization for {len(smiles_vec)} molecules\")\n",
    "        return smiles_vocab, smiles_vec\n",
    "\n",
    "    # integer encoding (CNN)\n",
    "    elif choice == 'integer_encoding':\n",
    "        print(\"Converting SMILES to integer encoding...\")\n",
    "        integer_encoding_data = []\n",
    "        for smi, l in tqdm(zip(molecule_smiles, labels), desc=\"Integer encoding\", total=len(molecule_smiles)):\n",
    "             drug = integer_label_encoding(smi, 'drug')\n",
    "             drug.y = torch.tensor([l], dtype=torch.float).view(1, -1)\n",
    "             integer_encoding_data.append(drug)\n",
    "        print(f\"Completed integer encoding for {len(integer_encoding_data)} molecules\")\n",
    "        return integer_encoding_data\n",
    "\n",
    "    # 2D Graph\n",
    "    elif choice == '2D_graph':\n",
    "        print(\"Converting SMILES to 2D molecular graphs...\")\n",
    "        graph_data = [drug_to_graph(smi) for smi in tqdm(molecule_smiles, desc=\"Creating 2D graphs\")]\n",
    "\n",
    "        graph_2d = []\n",
    "        for g, l, smi in tqdm(zip(graph_data, labels, molecule_smiles), desc=\"Adding labels to graphs\", total=len(molecule_smiles)):\n",
    "            g.y = torch.tensor([l], dtype=torch.float).view(1, -1)\n",
    "            g.smiles = smi\n",
    "            graph_2d.append(g)\n",
    "        print(f\"Completed 2D graph conversion for {len(graph_2d)} molecules\")\n",
    "        return graph_2d\n",
    "\n",
    "    # 3D Graph\n",
    "    elif choice == '3D_graph':\n",
    "        print(\"Converting SMILES to 3D molecular graphs...\")\n",
    "        graph_3d = []\n",
    "        for smi, l in tqdm(zip(molecule_smiles, labels), desc=\"Creating 3D graphs\", total=len(molecule_smiles)):\n",
    "            graph_data = drug_to_graph(smi)\n",
    "            \n",
    "            mol = Chem.MolFromSmiles(smi)\n",
    "            atom_info = [(atom.GetIdx(), atom.GetSymbol()) for atom in mol.GetAtoms()]\n",
    "                     \n",
    "            mol = AllChem.AddHs(mol, addCoords=True)\n",
    "            rdDistGeom.EmbedMolecule(mol)\n",
    "    \n",
    "            conf = mol.GetConformer()\n",
    "            pos = np.array([conf.GetAtomPosition(idx) for idx, symbol in atom_info])\n",
    "            graph_data.pos = pos\n",
    "            graph_data.y = torch.tensor([l], dtype=torch.float).view(1, -1)\n",
    "            graph_data.smiles = smi\n",
    "            graph_3d.append(graph_data)\n",
    "        print(f\"Completed 3D graph conversion for {len(graph_3d)} molecules\")\n",
    "        return graph_3d\n",
    "    \n",
    "    # Fingerprint\n",
    "    elif 'fingerprint' in choice:\n",
    "        print(f\"Generating {choice} fingerprints...\")\n",
    "        if choice == 'rdkit_fingerprint':\n",
    "            fp = [Chem.RDKFingerprint(mol) for mol in tqdm(mols, desc=\"RDKit fingerprints\")]\n",
    "        \n",
    "        elif choice == 'maccs_fingerprint':\n",
    "            fp = [MACCSkeys.GenMACCSKeys(mol) for mol in tqdm(mols, desc=\"MACCS fingerprints\")]\n",
    "        \n",
    "        elif choice == 'morgan_fingerprint':\n",
    "            fp = [AllChem.GetMorganFingerprintAsBitVect(mol, radius=2, nBits=1024) for mol in tqdm(mols, desc=\"Morgan fingerprints\")]\n",
    "\n",
    "        print(\"Converting fingerprints to Data objects...\")\n",
    "        fps = [Data(x=torch.tensor(f).view(1, -1), y=torch.tensor([l], dtype=torch.float).view(1, -1), smiles=smi) for f, l, smi in tqdm(zip(fp, labels, molecule_smiles), desc=\"Creating fingerprint Data objects\", total=len(molecule_smiles))]\n",
    "        print(f\"Completed {choice} generation for {len(fps)} molecules\")\n",
    "        return fps\n",
    "\n",
    "    # Descriptors\n",
    "    elif choice == 'descriptors':\n",
    "        print(\"Calculating molecular descriptors...\")\n",
    "        # 모델 학습을 위해서는 스케일링 작업이 별도로 필요하다는 것을 기억하자!\n",
    "        desc = []\n",
    "        for mol, l, smi in tqdm(zip(mols, labels, molecule_smiles), desc=\"Calculating descriptors\", total=len(molecule_smiles)):\n",
    "            x = torch.tensor(list(Descriptors.CalcMolDescriptors(mol).values()), dtype=torch.float).view(1, -1)\n",
    "            y = torch.tensor([l], dtype=torch.float).view(1, -1)\n",
    "            desc.append(Data(x=x, y=y, smiles=smi))\n",
    "        print(f\"Completed descriptor calculation for {len(desc)} molecules\")\n",
    "        return desc\n"
   ]
  },
  {
   "cell_type": "code",
   "execution_count": 5,
   "metadata": {},
   "outputs": [],
   "source": [
    "import pandas as pd\n",
    "\n",
    "dta_trn = pd.read_csv('data/davis/train.csv')\n",
    "dta_val = pd.read_csv('data/davis/valid.csv')\n",
    "dta_tst = pd.read_csv('data/davis/test.csv')\n",
    "\n",
    "dta_trn['Set'] = 'TRN'\n",
    "dta_val['Set'] = 'VAL'\n",
    "dta_tst['Set'] = 'TST'\n",
    "\n",
    "dta = pd.concat([dta_trn, dta_val, dta_tst]).reset_index(drop=True)"
   ]
  },
  {
   "cell_type": "code",
   "execution_count": 6,
   "metadata": {},
   "outputs": [
    {
     "name": "stdout",
     "output_type": "stream",
     "text": [
      "Processing 25772 molecules with integer_encoding transformation...\n",
      "Converting SMILES to integer encoding...\n"
     ]
    },
    {
     "name": "stderr",
     "output_type": "stream",
     "text": [
      "Integer encoding: 100%|██████████| 25772/25772 [00:00<00:00, 36195.86it/s]\n"
     ]
    },
    {
     "name": "stdout",
     "output_type": "stream",
     "text": [
      "Completed integer encoding for 25772 molecules\n",
      "Processing 25772 molecules with 2D_graph transformation...\n",
      "Converting SMILES to 2D molecular graphs...\n"
     ]
    },
    {
     "name": "stderr",
     "output_type": "stream",
     "text": [
      "Creating 2D graphs: 100%|██████████| 25772/25772 [00:19<00:00, 1309.92it/s]\n",
      "Adding labels to graphs: 100%|██████████| 25772/25772 [00:00<00:00, 146693.63it/s]\n"
     ]
    },
    {
     "name": "stdout",
     "output_type": "stream",
     "text": [
      "Completed 2D graph conversion for 25772 molecules\n",
      "Processing 25772 molecules with morgan_fingerprint transformation...\n",
      "Generating morgan_fingerprint fingerprints...\n"
     ]
    },
    {
     "name": "stderr",
     "output_type": "stream",
     "text": [
      "Morgan fingerprints: 100%|██████████| 25772/25772 [00:00<00:00, 30424.94it/s]\n"
     ]
    },
    {
     "name": "stdout",
     "output_type": "stream",
     "text": [
      "Converting fingerprints to Data objects...\n"
     ]
    },
    {
     "name": "stderr",
     "output_type": "stream",
     "text": [
      "Creating fingerprint Data objects: 100%|██████████| 25772/25772 [00:10<00:00, 2346.57it/s]\n"
     ]
    },
    {
     "name": "stdout",
     "output_type": "stream",
     "text": [
      "Completed morgan_fingerprint generation for 25772 molecules\n",
      "Processing 25772 molecules with maccs_fingerprint transformation...\n",
      "Generating maccs_fingerprint fingerprints...\n"
     ]
    },
    {
     "name": "stderr",
     "output_type": "stream",
     "text": [
      "MACCS fingerprints: 100%|██████████| 25772/25772 [00:29<00:00, 884.74it/s] \n"
     ]
    },
    {
     "name": "stdout",
     "output_type": "stream",
     "text": [
      "Converting fingerprints to Data objects...\n"
     ]
    },
    {
     "name": "stderr",
     "output_type": "stream",
     "text": [
      "Creating fingerprint Data objects: 100%|██████████| 25772/25772 [00:02<00:00, 9095.42it/s]\n"
     ]
    },
    {
     "name": "stdout",
     "output_type": "stream",
     "text": [
      "Completed maccs_fingerprint generation for 25772 molecules\n"
     ]
    }
   ],
   "source": [
    "dta['CNN'] = transform_mol(dta['Drug'], dta['Y'], 'integer_encoding')\n",
    "dta['2D-GNN'] = transform_mol(dta['Drug'], dta['Y'], '2D_graph')\n",
    "dta['FP-Morgan'] = transform_mol(dta['Drug'], dta['Y'], 'morgan_fingerprint') # 1024\n",
    "dta['FP-MACCS'] = transform_mol(dta['Drug'], dta['Y'], 'maccs_fingerprint') # 167"
   ]
  },
  {
   "cell_type": "code",
   "execution_count": 9,
   "metadata": {},
   "outputs": [
    {
     "name": "stdout",
     "output_type": "stream",
     "text": [
      "Processing 25772 molecules with 3D_graph transformation...\n",
      "Converting SMILES to 3D molecular graphs...\n"
     ]
    },
    {
     "name": "stderr",
     "output_type": "stream",
     "text": [
      "Creating 3D graphs: 100%|██████████| 25772/25772 [11:52<00:00, 36.18it/s]\n"
     ]
    },
    {
     "name": "stdout",
     "output_type": "stream",
     "text": [
      "Completed 3D graph conversion for 25772 molecules\n"
     ]
    }
   ],
   "source": [
    "dta['3D-GNN'] = transform_mol(dta['Drug'], dta['Y'], '3D_graph')"
   ]
  },
  {
   "cell_type": "code",
   "execution_count": 8,
   "metadata": {},
   "outputs": [],
   "source": [
    "dta['Target_Rep'] = dta['Target'].apply(lambda x: integer_label_encoding(x, 'protein', 1000))"
   ]
  },
  {
   "cell_type": "code",
   "execution_count": 10,
   "metadata": {},
   "outputs": [
    {
     "name": "stdout",
     "output_type": "stream",
     "text": [
      "CNN feature_dim torch.Size([1, 100])\n",
      "Saved data\\davis\\feature\\CNN\n",
      "2D-GNN feature_dim torch.Size([27, 78])\n",
      "Saved data\\davis\\feature\\2D-GNN\n",
      "3D-GNN feature_dim torch.Size([27, 78])\n",
      "Saved data\\davis\\feature\\3D-GNN\n",
      "FP-Morgan feature_dim torch.Size([1, 1024])\n",
      "Saved data\\davis\\feature\\FP-Morgan\n",
      "FP-MACCS feature_dim torch.Size([1, 167])\n",
      "Saved data\\davis\\feature\\FP-MACCS\n"
     ]
    }
   ],
   "source": [
    "import pickle\n",
    "from pathlib import Path\n",
    "\n",
    "fd = Path('data/davis/feature/')\n",
    "fd.mkdir(parents=True, exist_ok=True)\n",
    "for ft in ['CNN', '2D-GNN', '3D-GNN', 'FP-Morgan', 'FP-MACCS']:\n",
    "    nfd = fd / ft\n",
    "    nfd.mkdir(parents=True, exist_ok=True)\n",
    "    \n",
    "    trn_sub = dta[dta['Set'] == 'TRN'][[ft, 'Target_Rep']].reset_index(drop=True).rename(columns={ft: 'Drug_Rep'}).to_dict('records')\n",
    "    val_sub = dta[dta['Set'] == 'VAL'][[ft, 'Target_Rep']].reset_index(drop=True).rename(columns={ft: 'Drug_Rep'}).to_dict('records')\n",
    "    tst_sub = dta[dta['Set'] == 'TST'][[ft, 'Target_Rep']].reset_index(drop=True).rename(columns={ft: 'Drug_Rep'}).to_dict('records')\n",
    "    print(f'{ft} feature_dim', dta[ft].values[0].x.shape)\n",
    "    \n",
    "    with open(nfd / 'trn.pkl', 'wb') as f:\n",
    "        pickle.dump(trn_sub, f)\n",
    "    with open(nfd / 'val.pkl', 'wb') as f:\n",
    "        pickle.dump(val_sub, f)\n",
    "    with open(nfd / 'tst.pkl', 'wb') as f:\n",
    "        pickle.dump(tst_sub, f)\n",
    "    \n",
    "    print('Saved', nfd)"
   ]
  },
  {
   "cell_type": "code",
   "execution_count": 15,
   "metadata": {},
   "outputs": [
    {
     "data": {
      "text/plain": [
       "torch.Size([27, 3])"
      ]
     },
     "execution_count": 15,
     "metadata": {},
     "output_type": "execute_result"
    }
   ],
   "source": [
    "torch.tensor(dta['3D-GNN'].values[0].pos).shape"
   ]
  },
  {
   "cell_type": "code",
   "execution_count": null,
   "metadata": {},
   "outputs": [],
   "source": []
  },
  {
   "cell_type": "code",
   "execution_count": null,
   "metadata": {},
   "outputs": [],
   "source": []
  },
  {
   "cell_type": "code",
   "execution_count": 22,
   "metadata": {},
   "outputs": [
    {
     "data": {
      "text/html": [
       "<div>\n",
       "<style scoped>\n",
       "    .dataframe tbody tr th:only-of-type {\n",
       "        vertical-align: middle;\n",
       "    }\n",
       "\n",
       "    .dataframe tbody tr th {\n",
       "        vertical-align: top;\n",
       "    }\n",
       "\n",
       "    .dataframe thead th {\n",
       "        text-align: right;\n",
       "    }\n",
       "</style>\n",
       "<table border=\"1\" class=\"dataframe\">\n",
       "  <thead>\n",
       "    <tr style=\"text-align: right;\">\n",
       "      <th></th>\n",
       "      <th>smiles</th>\n",
       "    </tr>\n",
       "  </thead>\n",
       "  <tbody>\n",
       "    <tr>\n",
       "      <th>0</th>\n",
       "      <td>CCN(CCSC)C(=O)N[C@@](C)(CC)C(F)(F)F</td>\n",
       "    </tr>\n",
       "    <tr>\n",
       "      <th>1</th>\n",
       "      <td>CC1(C)CN(C(=O)Nc2cc3ccccc3nn2)C[C@@]2(CCOC2)O1</td>\n",
       "    </tr>\n",
       "    <tr>\n",
       "      <th>2</th>\n",
       "      <td>CC[C@H](NC(C)=O)C(=O)NCC1(NC(=O)Cc2nonc2C)CC1</td>\n",
       "    </tr>\n",
       "    <tr>\n",
       "      <th>3</th>\n",
       "      <td>O=C(N[C@@H]1CC[C@H](F)C1)[C@H]1C[C@@H]1c1ccc2c...</td>\n",
       "    </tr>\n",
       "    <tr>\n",
       "      <th>4</th>\n",
       "      <td>COCC(=O)N(C)CC(=O)NCC1(Nc2nccn3nnnc23)CC1</td>\n",
       "    </tr>\n",
       "  </tbody>\n",
       "</table>\n",
       "</div>"
      ],
      "text/plain": [
       "                                              smiles\n",
       "0                CCN(CCSC)C(=O)N[C@@](C)(CC)C(F)(F)F\n",
       "1     CC1(C)CN(C(=O)Nc2cc3ccccc3nn2)C[C@@]2(CCOC2)O1\n",
       "2      CC[C@H](NC(C)=O)C(=O)NCC1(NC(=O)Cc2nonc2C)CC1\n",
       "3  O=C(N[C@@H]1CC[C@H](F)C1)[C@H]1C[C@@H]1c1ccc2c...\n",
       "4          COCC(=O)N(C)CC(=O)NCC1(Nc2nccn3nnnc23)CC1"
      ]
     },
     "execution_count": 22,
     "metadata": {},
     "output_type": "execute_result"
    }
   ],
   "source": [
    "zinc = pd.read_csv('data/zinc/zinc15_250K.csv')\n",
    "zinc.head()"
   ]
  },
  {
   "cell_type": "code",
   "execution_count": 32,
   "metadata": {},
   "outputs": [],
   "source": [
    "def transform_mol_nolabel(molecule_smiles, choice):\n",
    "    mols = [Chem.MolFromSmiles(mol) for mol in molecule_smiles if mol]\n",
    "    print(f\"Processing {len(molecule_smiles)} molecules with {choice} transformation...\")\n",
    "    \n",
    "     # integer encoding (CNN)\n",
    "    if choice == 'integer_encoding':\n",
    "        print(\"Converting SMILES to integer encoding...\")\n",
    "        integer_encoding_data = {}\n",
    "        for smi in tqdm(molecule_smiles):\n",
    "             drug = integer_label_encoding(smi, 'drug')\n",
    "             integer_encoding_data[smi] = drug\n",
    "        print(f\"Completed integer encoding for {len(integer_encoding_data)} molecules\")\n",
    "        return integer_encoding_data\n",
    "\n",
    "    # 2D Graph\n",
    "    elif choice == '2D_graph':\n",
    "        print(\"Converting SMILES to 2D molecular graphs...\")\n",
    "        graph_data = {smi: drug_to_graph(smi) for smi in tqdm(molecule_smiles, desc=\"Creating 2D graphs\")}\n",
    "        print(f\"Completed 2D graph conversion for {len(graph_data)} molecules\")\n",
    "        return graph_data\n",
    "\n",
    "    # 3D Graph\n",
    "    elif choice == '3D_graph':\n",
    "        print(\"Converting SMILES to 3D molecular graphs...\")\n",
    "        graph_3d = {}\n",
    "        for smi in tqdm(molecule_smiles):\n",
    "            graph_data = drug_to_graph(smi)\n",
    "            \n",
    "            mol = Chem.MolFromSmiles(smi)\n",
    "            atom_info = [(atom.GetIdx(), atom.GetSymbol()) for atom in mol.GetAtoms()]\n",
    "                     \n",
    "            mol = AllChem.AddHs(mol, addCoords=True)\n",
    "            emb_mol = rdDistGeom.EmbedMolecule(mol)\n",
    "            if emb_mol == -1:\n",
    "                emb_mol =rdDistGeom.EmbedMolecule(mol, maxAttempts=5000)\n",
    "            \n",
    "            if emb_mol == -1:\n",
    "                print(f\"Failed to embed molecule {smi} (skip)\")\n",
    "                continue\n",
    "\n",
    "            conf = mol.GetConformer()\n",
    "            pos = np.array([conf.GetAtomPosition(idx) for idx, symbol in atom_info])\n",
    "            graph_data.pos = pos\n",
    "            graph_3d[smi] = graph_data\n",
    "        print(f\"Completed 3D graph conversion for {len(graph_3d)} molecules\")\n",
    "        return graph_3d\n",
    "    \n",
    "    # Fingerprint\n",
    "    elif 'fingerprint' in choice:\n",
    "        print(f\"Generating {choice} fingerprints...\")\n",
    "        if choice == 'rdkit_fingerprint':\n",
    "            fp = [Chem.RDKFingerprint(mol) for mol in tqdm(mols, desc=\"RDKit fingerprints\")]\n",
    "        \n",
    "        elif choice == 'maccs_fingerprint':\n",
    "            fp = [MACCSkeys.GenMACCSKeys(mol) for mol in tqdm(mols, desc=\"MACCS fingerprints\")]\n",
    "        \n",
    "        elif choice == 'morgan_fingerprint':\n",
    "            fp = [AllChem.GetMorganFingerprintAsBitVect(mol, radius=2, nBits=1024) for mol in tqdm(mols, desc=\"Morgan fingerprints\")]\n",
    "\n",
    "        print(\"Converting fingerprints to Data objects...\")\n",
    "        fps = {smi: Data(x=torch.tensor(f).view(1, -1)) for f, smi in tqdm(zip(fp, molecule_smiles), desc=\"Creating fingerprint Data objects\")}\n",
    "        print(f\"Completed {choice} generation for {len(fps)} molecules\")\n",
    "        return fps"
   ]
  },
  {
   "cell_type": "code",
   "execution_count": 24,
   "metadata": {},
   "outputs": [
    {
     "name": "stdout",
     "output_type": "stream",
     "text": [
      "Processing 250000 molecules with integer_encoding transformation...\n",
      "Converting SMILES to integer encoding...\n"
     ]
    },
    {
     "name": "stderr",
     "output_type": "stream",
     "text": [
      "100%|██████████| 250000/250000 [00:04<00:00, 56899.15it/s]\n"
     ]
    },
    {
     "name": "stdout",
     "output_type": "stream",
     "text": [
      "Completed integer encoding for 250000 molecules\n"
     ]
    }
   ],
   "source": [
    "zinc_cnn = transform_mol_nolabel(zinc['smiles'], 'integer_encoding')\n",
    "with open('data/zinc/feature/zinc_cnn.pkl', 'wb') as f:\n",
    "    pickle.dump(zinc_cnn, f)"
   ]
  },
  {
   "cell_type": "code",
   "execution_count": 25,
   "metadata": {},
   "outputs": [
    {
     "name": "stdout",
     "output_type": "stream",
     "text": [
      "Processing 250000 molecules with 2D_graph transformation...\n",
      "Converting SMILES to 2D molecular graphs...\n"
     ]
    },
    {
     "name": "stderr",
     "output_type": "stream",
     "text": [
      "Creating 2D graphs: 100%|██████████| 250000/250000 [02:23<00:00, 1747.18it/s]\n"
     ]
    },
    {
     "name": "stdout",
     "output_type": "stream",
     "text": [
      "Completed 2D graph conversion for 250000 molecules\n"
     ]
    }
   ],
   "source": [
    "zinc_2d_gnn = transform_mol_nolabel(zinc['smiles'], '2D_graph')\n",
    "with open('data/zinc/feature/zinc_2d_gnn.pkl', 'wb') as f:\n",
    "    pickle.dump(zinc_2d_gnn, f)"
   ]
  },
  {
   "cell_type": "code",
   "execution_count": 28,
   "metadata": {},
   "outputs": [
    {
     "name": "stdout",
     "output_type": "stream",
     "text": [
      "Processing 250000 molecules with morgan_fingerprint transformation...\n",
      "Generating morgan_fingerprint fingerprints...\n"
     ]
    },
    {
     "name": "stderr",
     "output_type": "stream",
     "text": [
      "Morgan fingerprints: 100%|██████████| 250000/250000 [00:06<00:00, 38082.33it/s]\n"
     ]
    },
    {
     "name": "stdout",
     "output_type": "stream",
     "text": [
      "Converting fingerprints to Data objects...\n"
     ]
    },
    {
     "name": "stderr",
     "output_type": "stream",
     "text": [
      "Creating fingerprint Data objects: 250000it [01:49, 2287.91it/s]\n"
     ]
    },
    {
     "name": "stdout",
     "output_type": "stream",
     "text": [
      "Completed morgan_fingerprint generation for 250000 molecules\n"
     ]
    }
   ],
   "source": [
    "zinc_fp_morgan = transform_mol_nolabel(zinc['smiles'], 'morgan_fingerprint')\n",
    "with open('data/zinc/feature/zinc_fp_morgan.pkl', 'wb') as f:\n",
    "    pickle.dump(zinc_fp_morgan, f)"
   ]
  },
  {
   "cell_type": "code",
   "execution_count": 29,
   "metadata": {},
   "outputs": [
    {
     "name": "stdout",
     "output_type": "stream",
     "text": [
      "Processing 250000 molecules with maccs_fingerprint transformation...\n",
      "Generating maccs_fingerprint fingerprints...\n"
     ]
    },
    {
     "name": "stderr",
     "output_type": "stream",
     "text": [
      "MACCS fingerprints: 100%|██████████| 250000/250000 [02:23<00:00, 1737.13it/s]\n"
     ]
    },
    {
     "name": "stdout",
     "output_type": "stream",
     "text": [
      "Converting fingerprints to Data objects...\n"
     ]
    },
    {
     "name": "stderr",
     "output_type": "stream",
     "text": [
      "Creating fingerprint Data objects: 250000it [00:26, 9515.46it/s] \n"
     ]
    },
    {
     "name": "stdout",
     "output_type": "stream",
     "text": [
      "Completed maccs_fingerprint generation for 250000 molecules\n"
     ]
    }
   ],
   "source": [
    "zinc_fp_maccs = transform_mol_nolabel(zinc['smiles'], 'maccs_fingerprint')\n",
    "with open('data/zinc/feature/zinc_fp_maccs.pkl', 'wb') as f:\n",
    "    pickle.dump(zinc_fp_maccs, f)"
   ]
  },
  {
   "cell_type": "code",
   "execution_count": 33,
   "metadata": {},
   "outputs": [
    {
     "name": "stdout",
     "output_type": "stream",
     "text": [
      "Processing 250000 molecules with 3D_graph transformation...\n",
      "Converting SMILES to 3D molecular graphs...\n"
     ]
    },
    {
     "name": "stderr",
     "output_type": "stream",
     "text": [
      "  0%|          | 4/250000 [00:00<1:53:19, 36.77it/s]"
     ]
    },
    {
     "name": "stdout",
     "output_type": "stream",
     "text": [
      "CCN(CCSC)C(=O)N[C@@](C)(CC)C(F)(F)F <rdkit.Chem.rdchem.Mol object at 0x000001BBB1948660>\n",
      "CC1(C)CN(C(=O)Nc2cc3ccccc3nn2)C[C@@]2(CCOC2)O1 <rdkit.Chem.rdchem.Mol object at 0x000001BBB1948580>\n",
      "CC[C@H](NC(C)=O)C(=O)NCC1(NC(=O)Cc2nonc2C)CC1 <rdkit.Chem.rdchem.Mol object at 0x000001BBB1948660>\n",
      "O=C(N[C@@H]1CC[C@H](F)C1)[C@H]1C[C@@H]1c1ccc2c(c1)OCCO2 <rdkit.Chem.rdchem.Mol object at 0x000001BBB1948580>\n",
      "COCC(=O)N(C)CC(=O)NCC1(Nc2nccn3nnnc23)CC1 <rdkit.Chem.rdchem.Mol object at 0x000001BBB1948660>\n",
      "C[C@H](C[C@H](C)N)NC(=O)C(=O)NCCCN1C(=O)CNC1=O <rdkit.Chem.rdchem.Mol object at 0x000001BBB19486D0>\n",
      "CC(C)(C(N)=O)C(=O)N[C@@H]1CN([C@H]2CCNC2=O)C[C@H]1O <rdkit.Chem.rdchem.Mol object at 0x000001BBB1948580>\n",
      "Cc1ccc(C(=O)N2CC[C@@H]2CNC(=O)[C@H]2[C@@H]3COC[C@@H]32)cc1 <rdkit.Chem.rdchem.Mol object at 0x000001BBB1948660>\n"
     ]
    },
    {
     "name": "stderr",
     "output_type": "stream",
     "text": [
      "  0%|          | 13/250000 [00:00<1:49:32, 38.03it/s]"
     ]
    },
    {
     "name": "stdout",
     "output_type": "stream",
     "text": [
      "COc1ccc(C(=O)NCC2(NCC=C(C)C)CCC2)cc1 <rdkit.Chem.rdchem.Mol object at 0x000001BBB1948580>\n",
      "CCNC(=O)CC(=O)NC[C@@H](CO)N[C@@H](C)c1nncn1C <rdkit.Chem.rdchem.Mol object at 0x000001BBB1948660>\n",
      "CCn1nncc1CN1C[C@@H](O)[C@H](NC(=O)C2=COCCC2)C1 <rdkit.Chem.rdchem.Mol object at 0x000001BBB1948580>\n",
      "CN(C)C(=O)CN1C[C@@H]2COC[C@H](C1)N2C(=O)[C@@H]1CCCOC1 <rdkit.Chem.rdchem.Mol object at 0x000001BBB1948660>\n",
      "O=C(O)CC1(C(=O)NCCc2ccccc2O)CCOCC1 <rdkit.Chem.rdchem.Mol object at 0x000001BBB1948580>\n",
      "CCCC(=O)N1CC(N2C[C@H](NC(=O)[C@@H]3CC34CC4)CC2=O)C1 <rdkit.Chem.rdchem.Mol object at 0x000001BBB1948510>\n",
      "CC[C@@H]1CN(C(=O)N[C@@H]2CCCc3c2cnn3C)[C@@H](C)CO1 <rdkit.Chem.rdchem.Mol object at 0x000001BBB19486D0>\n",
      "O=C(Cc1nc2ncccn2n1)NC1CCN(Cc2ccon2)CC1 <rdkit.Chem.rdchem.Mol object at 0x000001BBB19485F0>\n"
     ]
    },
    {
     "name": "stderr",
     "output_type": "stream",
     "text": [
      "  0%|          | 21/250000 [00:00<1:52:46, 36.95it/s]"
     ]
    },
    {
     "name": "stdout",
     "output_type": "stream",
     "text": [
      "O=C(O)c1cc(S(=O)(=O)NC2CC3(CCC3)C2)on1 <rdkit.Chem.rdchem.Mol object at 0x000001BBB19486D0>\n",
      "CCc1nnc(CN2C[C@H]3OCCN(C(=O)CNC(C)=O)[C@H]3C2)o1 <rdkit.Chem.rdchem.Mol object at 0x000001BBB19485F0>\n",
      "CCCOc1ccc(C(=O)NCCc2n[nH]c(C)n2)cc1OCCC <rdkit.Chem.rdchem.Mol object at 0x000001BBB1948660>\n",
      "O=C(NCCN1CCNC(=O)C1)NCc1ccc2c(c1)CCO2 <rdkit.Chem.rdchem.Mol object at 0x000001BBB19485F0>\n",
      "C[C@H](NC(=O)N1CC[C@@H](c2ccccc2)C1)c1ccn(C)n1 <rdkit.Chem.rdchem.Mol object at 0x000001BBB19486D0>\n",
      "C[C@@H]1C[C@H](NC(=O)c2cn(C)nn2)CCN1CC(=O)N(C)C <rdkit.Chem.rdchem.Mol object at 0x000001BBB1948510>\n",
      "Cc1cnc(COCC(=O)N2CC(NC(=O)CCn3cncn3)C2)o1 <rdkit.Chem.rdchem.Mol object at 0x000001BBB19486D0>\n",
      "Cc1coc(C(=O)N2CCCC[C@H]2[C@H]2CCCN2CC(=O)N(C)C)c1 <rdkit.Chem.rdchem.Mol object at 0x000001BBB1948510>\n"
     ]
    },
    {
     "name": "stderr",
     "output_type": "stream",
     "text": [
      "  0%|          | 30/250000 [00:00<1:55:31, 36.06it/s]"
     ]
    },
    {
     "name": "stdout",
     "output_type": "stream",
     "text": [
      "Cn1nc(C(=O)NCCCNCCO)cc1C(F)(F)F <rdkit.Chem.rdchem.Mol object at 0x000001BBB19485F0>\n",
      "CN1C[C@@H]2C[C@H]1CN2Cc1cccc2c1CCN2C(=O)OC(C)(C)C <rdkit.Chem.rdchem.Mol object at 0x000001BBB19486D0>\n",
      "COCCCN(C)CCNC(=O)C(=O)N1CCNC(=O)C1 <rdkit.Chem.rdchem.Mol object at 0x000001BBB1948580>\n",
      "C[C@@H](O)CCCN1C[C@@H]2CCN(C(=O)COCc3ccncc3)[C@@H]2C1 <rdkit.Chem.rdchem.Mol object at 0x000001BBB19486D0>\n",
      "CCN1CC[C@H](NC(=O)C(=O)NC[C@H]2NC(C)(C)O[C@@H]2C)C1=O <rdkit.Chem.rdchem.Mol object at 0x000001BBB19487B0>\n",
      "CCN1C[C@@H]2CCN(C(=O)c3cnn4cc(C)cnc34)[C@@H]2C1 <rdkit.Chem.rdchem.Mol object at 0x000001BBB19486D0>\n",
      "N[C@@H]1NCN(C(=O)c2ccc(-n3cncn3)nc2)[C@H]2NCN[C@@H]21 <rdkit.Chem.rdchem.Mol object at 0x000001BBB19487B0>\n",
      "CNS(=O)(=O)CCNC(=O)N[C@@](C)(CO)C1CC1 <rdkit.Chem.rdchem.Mol object at 0x000001BBB1948580>\n",
      "CCCC(=O)N[C@H]1CN(C(=O)c2cnc3n2CCC3)C[C@@H]1C <rdkit.Chem.rdchem.Mol object at 0x000001BBB19486D0>\n",
      "N[C@H](Cc1cn(CCc2cccnc2)nn1)C(=O)O <rdkit.Chem.rdchem.Mol object at 0x000001BBB1948510>\n"
     ]
    },
    {
     "name": "stderr",
     "output_type": "stream",
     "text": [
      "  0%|          | 34/250000 [00:10<22:09:16,  3.13it/s]"
     ]
    },
    {
     "name": "stdout",
     "output_type": "stream",
     "text": [
      "CN[C@H]1C[C@H]2CC[C@H]1N2C(=O)c1ccccc1CN1CCCCC1 <rdkit.Chem.rdchem.Mol object at 0x000001BBB19486D0>\n"
     ]
    },
    {
     "name": "stderr",
     "output_type": "stream",
     "text": [
      "\n"
     ]
    },
    {
     "ename": "ValueError",
     "evalue": "Bad Conformer Id",
     "output_type": "error",
     "traceback": [
      "\u001b[1;31m---------------------------------------------------------------------------\u001b[0m",
      "\u001b[1;31mValueError\u001b[0m                                Traceback (most recent call last)",
      "Cell \u001b[1;32mIn[33], line 1\u001b[0m\n\u001b[1;32m----> 1\u001b[0m zinc_3d_gnn \u001b[38;5;241m=\u001b[39m \u001b[43mtransform_mol_nolabel\u001b[49m\u001b[43m(\u001b[49m\u001b[43mzinc\u001b[49m\u001b[43m[\u001b[49m\u001b[38;5;124;43m'\u001b[39;49m\u001b[38;5;124;43msmiles\u001b[39;49m\u001b[38;5;124;43m'\u001b[39;49m\u001b[43m]\u001b[49m\u001b[43m,\u001b[49m\u001b[43m \u001b[49m\u001b[38;5;124;43m'\u001b[39;49m\u001b[38;5;124;43m3D_graph\u001b[39;49m\u001b[38;5;124;43m'\u001b[39;49m\u001b[43m)\u001b[49m\n\u001b[0;32m      2\u001b[0m \u001b[38;5;28;01mwith\u001b[39;00m \u001b[38;5;28mopen\u001b[39m(\u001b[38;5;124m'\u001b[39m\u001b[38;5;124mdata/zinc/feature/zinc_3d_gnn.pkl\u001b[39m\u001b[38;5;124m'\u001b[39m, \u001b[38;5;124m'\u001b[39m\u001b[38;5;124mwb\u001b[39m\u001b[38;5;124m'\u001b[39m) \u001b[38;5;28;01mas\u001b[39;00m f:\n\u001b[0;32m      3\u001b[0m     pickle\u001b[38;5;241m.\u001b[39mdump(zinc_3d_gnn, f)\n",
      "Cell \u001b[1;32mIn[32], line 36\u001b[0m, in \u001b[0;36mtransform_mol_nolabel\u001b[1;34m(molecule_smiles, choice)\u001b[0m\n\u001b[0;32m     33\u001b[0m rdDistGeom\u001b[38;5;241m.\u001b[39mEmbedMolecule(mol)\n\u001b[0;32m     35\u001b[0m \u001b[38;5;28mprint\u001b[39m(smi, mol)\n\u001b[1;32m---> 36\u001b[0m conf \u001b[38;5;241m=\u001b[39m \u001b[43mmol\u001b[49m\u001b[38;5;241;43m.\u001b[39;49m\u001b[43mGetConformer\u001b[49m\u001b[43m(\u001b[49m\u001b[43m)\u001b[49m\n\u001b[0;32m     37\u001b[0m pos \u001b[38;5;241m=\u001b[39m np\u001b[38;5;241m.\u001b[39marray([conf\u001b[38;5;241m.\u001b[39mGetAtomPosition(idx) \u001b[38;5;28;01mfor\u001b[39;00m idx, symbol \u001b[38;5;129;01min\u001b[39;00m atom_info])\n\u001b[0;32m     38\u001b[0m graph_data\u001b[38;5;241m.\u001b[39mpos \u001b[38;5;241m=\u001b[39m pos\n",
      "\u001b[1;31mValueError\u001b[0m: Bad Conformer Id"
     ]
    }
   ],
   "source": [
    "zinc_3d_gnn = transform_mol_nolabel(zinc['smiles'], '3D_graph')\n",
    "with open('data/zinc/feature/zinc_3d_gnn.pkl', 'wb') as f:\n",
    "    pickle.dump(zinc_3d_gnn, f)"
   ]
  },
  {
   "cell_type": "code",
   "execution_count": 34,
   "metadata": {},
   "outputs": [
    {
     "name": "stdout",
     "output_type": "stream",
     "text": [
      "CN[C@H]1C[C@H]2CC[C@H]1N2C(=O)c1ccccc1CN1CCCCC1 <rdkit.Chem.rdchem.Mol object at 0x000001BBB1948890>\n"
     ]
    },
    {
     "ename": "ValueError",
     "evalue": "Bad Conformer Id",
     "output_type": "error",
     "traceback": [
      "\u001b[1;31m---------------------------------------------------------------------------\u001b[0m",
      "\u001b[1;31mValueError\u001b[0m                                Traceback (most recent call last)",
      "Cell \u001b[1;32mIn[34], line 11\u001b[0m\n\u001b[0;32m      8\u001b[0m rdDistGeom\u001b[38;5;241m.\u001b[39mEmbedMolecule(mol)\n\u001b[0;32m     10\u001b[0m \u001b[38;5;28mprint\u001b[39m(smi, mol)\n\u001b[1;32m---> 11\u001b[0m conf \u001b[38;5;241m=\u001b[39m \u001b[43mmol\u001b[49m\u001b[38;5;241;43m.\u001b[39;49m\u001b[43mGetConformer\u001b[49m\u001b[43m(\u001b[49m\u001b[43m)\u001b[49m\n\u001b[0;32m     12\u001b[0m pos \u001b[38;5;241m=\u001b[39m np\u001b[38;5;241m.\u001b[39marray([conf\u001b[38;5;241m.\u001b[39mGetAtomPosition(idx) \u001b[38;5;28;01mfor\u001b[39;00m idx, symbol \u001b[38;5;129;01min\u001b[39;00m atom_info])\n\u001b[0;32m     13\u001b[0m graph_data\u001b[38;5;241m.\u001b[39mpos \u001b[38;5;241m=\u001b[39m pos\n",
      "\u001b[1;31mValueError\u001b[0m: Bad Conformer Id"
     ]
    }
   ],
   "source": [
    "smi = 'CN[C@H]1C[C@H]2CC[C@H]1N2C(=O)c1ccccc1CN1CCCCC1'\n",
    "graph_data = drug_to_graph(smi)\n",
    "\n",
    "mol = Chem.MolFromSmiles(smi)\n",
    "atom_info = [(atom.GetIdx(), atom.GetSymbol()) for atom in mol.GetAtoms()]\n",
    "            \n",
    "mol = AllChem.AddHs(mol, addCoords=True)\n",
    "rdDistGeom.EmbedMolecule(mol)\n",
    "\n",
    "print(smi, mol)\n",
    "conf = mol.GetConformer()\n",
    "pos = np.array([conf.GetAtomPosition(idx) for idx, symbol in atom_info])\n",
    "graph_data.pos = pos\n"
   ]
  },
  {
   "cell_type": "code",
   "execution_count": 37,
   "metadata": {},
   "outputs": [
    {
     "ename": "ValueError",
     "evalue": "Bad Conformer Id",
     "output_type": "error",
     "traceback": [
      "\u001b[1;31m---------------------------------------------------------------------------\u001b[0m",
      "\u001b[1;31mValueError\u001b[0m                                Traceback (most recent call last)",
      "Cell \u001b[1;32mIn[37], line 2\u001b[0m\n\u001b[0;32m      1\u001b[0m rdDistGeom\u001b[38;5;241m.\u001b[39mEmbedMolecule(mol)\n\u001b[1;32m----> 2\u001b[0m \u001b[43mmol\u001b[49m\u001b[38;5;241;43m.\u001b[39;49m\u001b[43mGetConformer\u001b[49m\u001b[43m(\u001b[49m\u001b[43m)\u001b[49m\n",
      "\u001b[1;31mValueError\u001b[0m: Bad Conformer Id"
     ]
    }
   ],
   "source": [
    "rdDistGeom.EmbedMolecule(mol)\n",
    "mol.GetConformer()"
   ]
  },
  {
   "cell_type": "code",
   "execution_count": 38,
   "metadata": {},
   "outputs": [
    {
     "data": {
      "text/plain": [
       "-1"
      ]
     },
     "execution_count": 38,
     "metadata": {},
     "output_type": "execute_result"
    }
   ],
   "source": [
    "rdDistGeom.EmbedMolecule(mol)"
   ]
  },
  {
   "cell_type": "code",
   "execution_count": null,
   "metadata": {},
   "outputs": [],
   "source": []
  }
 ],
 "metadata": {
  "kernelspec": {
   "display_name": "grapose",
   "language": "python",
   "name": "python3"
  },
  "language_info": {
   "codemirror_mode": {
    "name": "ipython",
    "version": 3
   },
   "file_extension": ".py",
   "mimetype": "text/x-python",
   "name": "python",
   "nbconvert_exporter": "python",
   "pygments_lexer": "ipython3",
   "version": "3.12.6"
  }
 },
 "nbformat": 4,
 "nbformat_minor": 2
}
